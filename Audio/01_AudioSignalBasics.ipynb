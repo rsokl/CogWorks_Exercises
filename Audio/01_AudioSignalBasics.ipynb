{
 "cells": [
  {
   "cell_type": "raw",
   "id": "528a5f29",
   "metadata": {
    "raw_mimetype": "text/restructuredtext"
   },
   "source": [
    ".. meta::\n",
    "    :description: Topic: Audio Processing, Category: Exercises\n",
    "    :keywords: sound wave, pressure, audio basics, temporal waveform"
   ]
  },
  {
   "cell_type": "markdown",
   "id": "20da1cb0",
   "metadata": {},
   "source": [
    "# Exercises: Basics of Sound Waves"
   ]
  },
  {
   "cell_type": "code",
   "execution_count": null,
   "id": "dfb20065",
   "metadata": {},
   "outputs": [],
   "source": [
    "import matplotlib.pyplot as plt\n",
    "import numpy as np\n",
    "\n",
    "%matplotlib notebook"
   ]
  },
  {
   "cell_type": "markdown",
   "id": "1095a329",
   "metadata": {},
   "source": [
    "(1.1.1) Create a Python function that describes a pressure wave impinging on a microphone. \n",
    "Assume that the sound wave is a sustained, pure tone of frequency $f$ and amplitude $A$, and that $p(0) = 0$.\n",
    "Note that this function represents our *temporal waveform*: the function that you create is defined on a continuous domain.\n",
    "While this represents a continuous mathematical function, we must work with concrete numbers when plotting and analyzing these functions on a computer.\n",
    "Thus we will evaluate this function at a discrete set of times.\n",
    "\n",
    "Note that the following function signature makes use of [type hints](https://www.pythonlikeyoumeanit.com/Module5_OddsAndEnds/Writing_Good_Code.html#Type-Hinting). \n",
    "Furthermore, the arguments `amp` and `freq` come after the `*` character in the signature, which means that they are keyword-only arguments in our function. \n",
    "This is to prevent us from accidentally swapping numbers when we pass our numbers into it."
   ]
  },
  {
   "cell_type": "code",
   "execution_count": null,
   "id": "dd1758a9",
   "metadata": {},
   "outputs": [],
   "source": [
    "def pressure(times: np.ndarray, *, amp: float, freq: float) -> np.ndarray:\n",
    "    \"\"\"Describes the temporal waveform of a pure tone impinging on a \n",
    "    microphone at times `times` (an array of times). The wave has \n",
    "    an amplitude `amp`, measured in Pascals, and a frequency \n",
    "    `freq`, measured in Hz.\n",
    "    \n",
    "    Parameters\n",
    "    ----------\n",
    "    times : numpy.ndarray, shape=(N,)\n",
    "        The times at which we want to evaluate the sound wave\n",
    "    \n",
    "    amp : float\n",
    "        The wave's amplitude (measured in Pascals - force per unit area)\n",
    "    \n",
    "    freq : float\n",
    "        The wave's frequency (measured in Hz - oscillations per second)\n",
    "    \n",
    "    Returns\n",
    "    -------\n",
    "    numpy.ndarray, shape=(N,)\n",
    "        The pressure at the microphone at times `t`\n",
    "\n",
    "    Notes\n",
    "    -----\n",
    "    We only care about the wave at a fixed location, at the microphone, \n",
    "    which is why we do not have any spatial component to our wave. \n",
    "    \"\"\"\n",
    "    # STUDENT CODE HERE"
   ]
  },
  {
   "cell_type": "markdown",
   "id": "ae251538",
   "metadata": {},
   "source": [
    "(1.1.2) As stated above, the function that you just wrote can be thought of as a representation of the temporal waveform that is recorded by our microphone: it represents the continuous fluctuations in air density associated with a sound wave.\n",
    "We can \"sample\" this function by evaluating the function at specific times. \n",
    "\n",
    "Evaluate the temporal waveform for a $C_{4}$-note ($261.63 \\:\\mathrm{Hz}$) played for $3$ seconds with an amplitude of $0.06\\:\\mathrm{Pascals}$ **using the sampling rate 44100 Hz (samples per second)**.\n",
    "That is, evaluate your function at evenly-spaced times according to this sampling rate for a time duration of $3$ seconds. \n",
    "\n",
    "You can compute the times at which you will evaluate your function using:\n",
    "\n",
    "```python\n",
    "duration = 3 # seconds\n",
    "sampling_rate = 44100 # Hz\n",
    "n_samples = int(duration * sampling_rate) + 1\n",
    "\n",
    "# the times at which you should sample your temporal waveform\n",
    "times = np.arange(n_samples) / sampling_rate  # seconds\n",
    "```\n",
    "\n",
    "You should ultimately produce an array, `c_4`, of pressure values associated with this pure tone.\n",
    "\n",
    "Include comments where appropriate to indicate the physical units of measurements associated with the quantities involved."
   ]
  },
  {
   "cell_type": "code",
   "execution_count": null,
   "id": "3375279c",
   "metadata": {},
   "outputs": [],
   "source": [
    "# STUDENT CODE HERE"
   ]
  },
  {
   "cell_type": "markdown",
   "id": "1642bc8f",
   "metadata": {},
   "source": [
    "Play the $3$-second audio using\n",
    "\n",
    "```python\n",
    "from IPython.display import Audio\n",
    "Audio(c_4, rate=44100)\n",
    "```\n",
    "Note that `Audio` automatically normalized the volume according to its slider, so the amplitude that we set will have no effect.\n",
    "Adjusting the amplitude would typically manifest as a change in volume!"
   ]
  },
  {
   "cell_type": "code",
   "execution_count": null,
   "id": "44566586",
   "metadata": {},
   "outputs": [],
   "source": [
    "# STUDENT CODE HERE"
   ]
  },
  {
   "cell_type": "markdown",
   "id": "958e8a62",
   "metadata": {
    "lines_to_next_cell": 0
   },
   "source": [
    "(1.1.3) Using `pressure(...)`, plot **4 periods (repetitions) of the sound wave**. Label the $x$- and $y$-axes, including the units of the values being plotted.\n",
    "Use enough points to make the plot look smooth.\n",
    "\n",
    "Here is some pseudocode for plotting:\n",
    "\n",
    "```python\n",
    "fig, ax = plt.subplots()\n",
    "t = # array/sequence of times\n",
    "pressures = # array/sequence of pressure samples\n",
    "ax.plot(t, pressures)\n",
    "ax.set_ylabel(\"Pressure [Pa]\")\n",
    "ax.set_xlabel(\"Time [s]\");\n",
    "```"
   ]
  },
  {
   "cell_type": "markdown",
   "id": "d4b6f01c",
   "metadata": {},
   "source": [
    "\n",
    "  "
   ]
  },
  {
   "cell_type": "code",
   "execution_count": null,
   "id": "b899a91c",
   "metadata": {},
   "outputs": [],
   "source": [
    "# STUDENT CODE HERE"
   ]
  },
  {
   "cell_type": "markdown",
   "id": "84b7053f",
   "metadata": {},
   "source": [
    "(1.1.4) **Leveraging the principle of superposition**, plot the waveform of the C-major triad for $0.64$ seconds. This should combine three pure tones of equal amplitudes ($0.01 \\;\\mathrm{Pa}$) of the following respective frequencies:\n",
    "\n",
    " - 523.25 Hz (C)\n",
    " - 659.25 Hz (E)\n",
    " - 783.99 Hz (G)\n",
    " \n",
    "Use the same sampling rate of $44,100\\; \\mathrm{Hz}$ to determine the times at which you will evaluate this temporal waveform."
   ]
  },
  {
   "cell_type": "code",
   "execution_count": null,
   "id": "dc613386",
   "metadata": {},
   "outputs": [],
   "source": [
    "# STUDENT CODE HERE"
   ]
  },
  {
   "cell_type": "markdown",
   "id": "80366c83",
   "metadata": {},
   "source": [
    "Play the major triad audio clip for $3$ seconds."
   ]
  },
  {
   "cell_type": "code",
   "execution_count": null,
   "id": "06471a6b",
   "metadata": {},
   "outputs": [],
   "source": [
    "# STUDENT CODE HERE"
   ]
  },
  {
   "cell_type": "markdown",
   "id": "5ae84fff",
   "metadata": {},
   "source": [
    "Isn't it beautiful?\n",
    "Notice how messy looking the waveform is. It is wholly unintuitive to look at the data in this way, even though it is only comprised of $3$ simple notes.\n",
    "In an upcoming section, we will see that we can convert this *amplitude-time* data into *amplitude-frequency* data, which is much more useful for us!\n",
    "This conversion process is known as a **Fourier Transform**. "
   ]
  },
  {
   "cell_type": "markdown",
   "id": "fd7b80c1",
   "metadata": {},
   "source": [
    "(1.1.5) Lastly, define a function that describes a pressure wave for **noise**.\n",
    "That is, use `numpy.random.rand` to generate samples randomly between $0$ and $1$).\n",
    "Plot some of its temporal waveform (don't worry about the precise duration or amplitude)."
   ]
  },
  {
   "cell_type": "code",
   "execution_count": null,
   "id": "bf7d6f9e",
   "metadata": {},
   "outputs": [],
   "source": [
    "# STUDENT CODE HERE"
   ]
  },
  {
   "cell_type": "markdown",
   "id": "69896e6a",
   "metadata": {},
   "source": [
    "Now play 3 seconds of noise!"
   ]
  },
  {
   "cell_type": "code",
   "execution_count": null,
   "id": "b0cdbb6f",
   "metadata": {},
   "outputs": [],
   "source": [
    "# STUDENT CODE HERE"
   ]
  }
 ],
 "metadata": {
  "jupytext": {
   "notebook_metadata_filter": "nbsphinx"
  },
  "kernelspec": {
   "display_name": "Python 3",
   "language": "python",
   "name": "python3"
  },
  "nbsphinx": {
   "execute": "never"
  }
 },
 "nbformat": 4,
 "nbformat_minor": 5
}
