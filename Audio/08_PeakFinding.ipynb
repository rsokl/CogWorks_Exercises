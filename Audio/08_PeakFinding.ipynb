{
 "cells": [
  {
   "cell_type": "raw",
   "id": "7890f990",
   "metadata": {},
   "source": [
    ".. meta::\n",
    "    :description: Topic: matching audio, Category: Exercises\n",
    "    :keywords: fingerprint, audio matching, local maxima"
   ]
  },
  {
   "cell_type": "markdown",
   "id": "8e1de992",
   "metadata": {},
   "source": [
    "# Exercises: Finding Local Peaks in a 2-D Array"
   ]
  },
  {
   "cell_type": "code",
   "execution_count": null,
   "id": "c9d72639",
   "metadata": {},
   "outputs": [],
   "source": [
    "import numpy as np\n",
    "\n",
    "import matplotlib.pyplot as plt\n",
    "import matplotlib.mlab as mlab\n",
    "\n",
    "from scipy.ndimage.filters import maximum_filter\n",
    "from scipy.ndimage.morphology import generate_binary_structure, binary_erosion\n",
    "from scipy.ndimage.morphology import iterate_structure\n",
    "\n",
    "from typing import Tuple, Callable, List\n",
    "\n",
    "%matplotlib notebook"
   ]
  },
  {
   "cell_type": "markdown",
   "id": "1815c2de",
   "metadata": {},
   "source": [
    "## Toy Problem"
   ]
  },
  {
   "cell_type": "markdown",
   "id": "6ec95a3f",
   "metadata": {},
   "source": [
    "We want to find the primary points of contact made by puppy-paws on a pressure-sensor.\n",
    "There are $4$ images that are each $11\\times14$ pixels. \n",
    "Let's load and visualize this data."
   ]
  },
  {
   "cell_type": "code",
   "execution_count": null,
   "id": "108cada7",
   "metadata": {},
   "outputs": [],
   "source": [
    "# loads four images of puppy paw print pressure data\n",
    "paws = np.loadtxt(\"data/paws.txt\").reshape(4, 11, 14)\n",
    "print(paws.shape)"
   ]
  },
  {
   "cell_type": "code",
   "execution_count": null,
   "id": "02230349",
   "metadata": {},
   "outputs": [],
   "source": [
    "# plots the paw prints\n",
    "fig, ax = plt.subplots(nrows=2, ncols=2)\n",
    "for n, (i, j) in enumerate([(0, 0), (0, 1), (1, 0), (1, 1)]):\n",
    "    ax[i, j].imshow(paws[n])"
   ]
  },
  {
   "cell_type": "markdown",
   "id": "6814edf1",
   "metadata": {},
   "source": [
    "For each \"toe\", we want to find the pixel with the maximum pressure.\n",
    "This corresponds to a finding the local peaks in a 2-D image.\n",
    "This is much more nuanced than finding the global maximum.\n",
    "The term \"local peak\" is also not completely well defined - we need to specify what we mean by \"local\"."
   ]
  },
  {
   "cell_type": "markdown",
   "id": "5c4ba08a",
   "metadata": {},
   "source": [
    "### Using SciPy's generate_binary_structure"
   ]
  },
  {
   "cell_type": "markdown",
   "id": "bfc81e0a",
   "metadata": {},
   "source": [
    "We will use `scipy.ndimage.morphology.generate_binary_structure` to help us define the local neighborhood that we will consider when looking for 2-D peaks.\n",
    "\n",
    "`generate_binary_structure` produces the \"footprint\" in which we look for neighbors.\n",
    "This is simply a 2-D array of boolean values that indicate where we want to look within the footprint (i.e. `False` means ignore).\n",
    "Using `generate_binary_structure(rank=2,connectivity=1)` means that, for a given pixel, we will check its two vertical and two horizontal neighbors when checking for the local maximum, aka, the \"local peak\".\n",
    "\n",
    "Let's generate and visualize this specific footprint"
   ]
  },
  {
   "cell_type": "code",
   "execution_count": null,
   "id": "928109e9",
   "metadata": {},
   "outputs": [],
   "source": [
    "generate_binary_structure(rank=2, connectivity=1)"
   ]
  },
  {
   "cell_type": "code",
   "execution_count": null,
   "id": "f41feaec",
   "metadata": {},
   "outputs": [],
   "source": [
    "fig, ax = plt.subplots()\n",
    "ax.imshow(generate_binary_structure(rank=2, connectivity=1))\n",
    "ax.set_title(\"Rank-2, Connectivity-1\\nNeighborhood\")\n",
    "ax.get_xaxis().set_ticks([])\n",
    "ax.get_yaxis().set_ticks([]);"
   ]
  },
  {
   "cell_type": "markdown",
   "id": "250327f0",
   "metadata": {},
   "source": [
    "(1.8.1) What is the \"footprint\" produced by `generate_binary_structure(rank=2,connectivity=2)`?\n",
    "(The plot may be misleading, try printing out the array)\n",
    "\n",
    "Boolean arrays behave like a binary mask when multiplied with a numerical array.\n",
    "Try multiplying the rank-$2$, connectivity-$1$ binary structure (which is a 2-D array of booleans) by $2$.\n",
    "Try to predict what the result will be before running your code."
   ]
  },
  {
   "cell_type": "code",
   "execution_count": null,
   "id": "cb163e25",
   "metadata": {},
   "outputs": [],
   "source": [
    "# STUDENT CODE HERE"
   ]
  },
  {
   "cell_type": "markdown",
   "id": "aa549af6",
   "metadata": {},
   "source": [
    "What if we want to use a larger footprint? We can make use of `scipy.ndimage.morphology.iterate_structure`.\n",
    "This allows us to set roughly the number of nearest neighbors (along a given direction) that that we want to included in the footprint.\n",
    "\n",
    "For instance:\n",
    "```python\n",
    ">>> fp = generate_binary_structure(2,1)\n",
    ">>> iterate_structure(fp, 2)\n",
    "array([[False, False,  True, False, False],\n",
    "       [False,  True,  True,  True, False],\n",
    "       [ True,  True,  True,  True,  True],\n",
    "       [False,  True,  True,  True, False],\n",
    "       [False, False,  True, False, False]], dtype=bool)\n",
    "```"
   ]
  },
  {
   "cell_type": "code",
   "execution_count": null,
   "id": "c86a4354",
   "metadata": {},
   "outputs": [],
   "source": [
    "fig, ax = plt.subplots()\n",
    "fp = iterate_structure(generate_binary_structure(2, 1), 2)\n",
    "ax.imshow(fp)\n",
    "ax.set_title(\"Iterated Neighborhood (nearest neighbor=2)\")\n",
    "ax.get_xaxis().set_ticks([])\n",
    "ax.get_yaxis().set_ticks([]);"
   ]
  },
  {
   "cell_type": "markdown",
   "id": "d4d9fba5",
   "metadata": {},
   "source": [
    "### Finding the Actual Peaks\n",
    "\n",
    "The following code slides this \"local neighborhood mask\" over our grid of 2D data (e.g. our spectrogram of amplitudes).\n",
    "For whichever element the neighborhood is centered on, we see if:\n",
    "\n",
    "- That center element is larger than some minimum threshold, which must be exceeded as a requirement to be considered \"a peak\"\n",
    "- No neighbor (as defined by the neighborhood) is larger than that center element\n",
    "\n",
    "If these conditions are true, then that center element is considered to be a local peak.\n",
    "We then iterate to the next element in the 2D array and repeat the process; ultimately we will have iterated over the entire 2D array of data to so identify all of the local peaks.\n",
    "Note that this is a relatively simple way of doing local peak-finding, and is certainly not the most optimal algorithm to do so.\n",
    "\n",
    "Doing for-loops over large numpy arrays is typically something that we avoid doing due to considerations of speed.\n",
    "But we do not have access to a vectorized peak-finding algorithm, so for-loops are what we have to stick with.\n",
    "Fortunately, we can leverage a package called Numba to help speed up this code.\n",
    "Numba provides a \"just in time\" (JIT) compiler that is able to translate (some aspects of) Python code into optimized machine code.\n",
    "That is, whereas we have typically avoided writing for-loops over large arrays of data in Python in favor of vectorization, Numba enables us to write plain Python code using for-loops, but obtain a function that will run quickly, as if it had been implemented in a fast, compiled language like C.\n",
    "\n",
    "Study the following code to understand what is going on."
   ]
  },
  {
   "cell_type": "code",
   "execution_count": null,
   "id": "52fd1277",
   "metadata": {},
   "outputs": [],
   "source": [
    "from numba import njit\n",
    "\n",
    "# `@njit` \"decorates\" the `_peaks` function. This tells Numba to\n",
    "# compile this function using the \"low level virtual machine\" (LLVM)\n",
    "# compiler. The resulting object is a Python function that, when called,\n",
    "# executes optimized machine code instead of the Python code\n",
    "# \n",
    "# The code used in _peaks adheres strictly to the subset of Python and\n",
    "# NumPy that is supported by Numba's jit. This is a requirement in order\n",
    "# for Numba to know how to compile this function to more efficient\n",
    "# instructions for the machine to execute\n",
    "@njit\n",
    "def _peaks(\n",
    "    data_2d: np.ndarray, rows: np.ndarray, cols: np.ndarray, amp_min: float\n",
    ") -> List[Tuple[int, int]]:\n",
    "    \"\"\"\n",
    "    A Numba-optimized 2-D peak-finding algorithm.\n",
    "    \n",
    "    Parameters\n",
    "    ----------\n",
    "    data_2d : numpy.ndarray, shape-(H, W)\n",
    "        The 2D array of data in which local peaks will be detected.\n",
    "\n",
    "    rows : numpy.ndarray, shape-(N,)\n",
    "        The 0-centered row indices of the local neighborhood mask\n",
    "    \n",
    "    cols : numpy.ndarray, shape-(N,)\n",
    "        The 0-centered column indices of the local neighborhood mask\n",
    "        \n",
    "    amp_min : float\n",
    "        All amplitudes at and below this value are excluded from being local \n",
    "        peaks.\n",
    "    \n",
    "    Returns\n",
    "    -------\n",
    "    List[Tuple[int, int]]\n",
    "        (row, col) index pair for each local peak location. \n",
    "    \"\"\"\n",
    "    peaks = []  # stores the (row, col) locations of all the local peaks\n",
    "\n",
    "    # Iterate over the 2-D data in col-major order\n",
    "    # we want to see if there is a local peak located at\n",
    "    # row=r, col=c\n",
    "    for c, r in np.ndindex(*data_2d.shape[::-1]):\n",
    "        if data_2d[r, c] <= amp_min:\n",
    "            # The amplitude falls beneath the minimum threshold\n",
    "            # thus this can't be a peak.\n",
    "            continue\n",
    "        \n",
    "        # Iterating over the neighborhood centered on (r, c)\n",
    "        # dr: displacement from r\n",
    "        # dc: discplacement from c\n",
    "        for dr, dc in zip(rows, cols):\n",
    "            if dr == 0 and dc == 0:\n",
    "                # This would compare (r, c) with itself.. skip!\n",
    "                continue\n",
    "\n",
    "            if not (0 <= r + dr < data_2d.shape[0]):\n",
    "                # neighbor falls outside of boundary\n",
    "                continue\n",
    "\n",
    "            # mirror over array boundary\n",
    "            if not (0 <= c + dc < data_2d.shape[1]):\n",
    "                # neighbor falls outside of boundary\n",
    "                continue\n",
    "\n",
    "            if data_2d[r, c] < data_2d[r + dr, c + dc]:\n",
    "                # One of the amplitudes within the neighborhood\n",
    "                # is larger, thus data_2d[r, c] cannot be a peak\n",
    "                break\n",
    "        else:\n",
    "            # if we did not break from the for-loop then (r, c) is a peak\n",
    "            peaks.append((r, c))\n",
    "    return peaks\n",
    "\n",
    "# `local_peak_locations` is responsible for taking in the boolean mask `neighborhood`\n",
    "# and converting it to a form that can be used by `_peaks`. This \"outer\" code is \n",
    "# not compatible with Numba which is why we end up using two functions:\n",
    "# `local_peak_locations` does some initial pre-processing that is not compatible with\n",
    "# Numba, and then it calls `_peaks` which contains all of the jit-compatible code\n",
    "def local_peak_locations(data_2d: np.ndarray, neighborhood: np.ndarray, amp_min: float):\n",
    "    \"\"\"\n",
    "    Defines a local neighborhood and finds the local peaks\n",
    "    in the spectrogram, which must be larger than the specified `amp_min`.\n",
    "    \n",
    "    Parameters\n",
    "    ----------\n",
    "    data_2d : numpy.ndarray, shape-(H, W)\n",
    "        The 2D array of data in which local peaks will be detected\n",
    "    \n",
    "    neighborhood : numpy.ndarray, shape-(h, w)\n",
    "        A boolean mask indicating the \"neighborhood\" in which each\n",
    "        datum will be assessed to determine whether or not it is\n",
    "        a local peak. h and w must be odd-valued numbers\n",
    "        \n",
    "    amp_min : float\n",
    "        All amplitudes at and below this value are excluded from being local \n",
    "        peaks.\n",
    "    \n",
    "    Returns\n",
    "    -------\n",
    "    List[Tuple[int, int]]\n",
    "        (row, col) index pair for each local peak location.\n",
    "    \n",
    "    Notes\n",
    "    -----\n",
    "    Neighborhoods that overlap with the boundary are mirrored across the boundary.\n",
    "    \n",
    "    The local peaks are returned in column-major order.\n",
    "    \"\"\"\n",
    "    rows, cols = np.where(neighborhood)\n",
    "    assert neighborhood.shape[0] % 2 == 1\n",
    "    assert neighborhood.shape[1] % 2 == 1\n",
    "\n",
    "    # center neighborhood indices around center of neighborhood\n",
    "    rows -= neighborhood.shape[0] // 2\n",
    "    cols -= neighborhood.shape[1] // 2\n",
    "\n",
    "    return _peaks(data_2d, rows, cols, amp_min=amp_min)"
   ]
  },
  {
   "cell_type": "markdown",
   "id": "6afe791a",
   "metadata": {},
   "source": [
    "Complete the following function."
   ]
  },
  {
   "cell_type": "code",
   "execution_count": null,
   "id": "29daedd6",
   "metadata": {},
   "outputs": [],
   "source": [
    "def local_peaks_mask(data: np.ndarray, cutoff: float) -> np.ndarray:\n",
    "    \"\"\"Find local peaks in a 2D array of data.\n",
    "\n",
    "    Parameters\n",
    "    ----------\n",
    "    data : numpy.ndarray, shape-(H, W)\n",
    "\n",
    "    cutoff : float\n",
    "         A threshold value that distinguishes background from foreground\n",
    "\n",
    "    Returns\n",
    "    -------\n",
    "    Binary indicator, of the same shape as `data`. The value of\n",
    "    1 indicates a local peak.\"\"\"\n",
    "    # Generate a rank-2, connectivity-2 binary mask\n",
    "    # STUDENT CODE HERE\n",
    "\n",
    "    # Use that neighborhood to find the local peaks in `data`.\n",
    "    # Pass `cutoff` as `amp_min` to `local_peak_locations`.\n",
    "    # STUDENT CODE HERE\n",
    "\n",
    "    # Turns the list of (row, col) peak locations into a shape-(N_peak, 2) array\n",
    "    # Save the result to the variable `peak_locations`\n",
    "    peak_locations = np.array(peak_locations)\n",
    "\n",
    "    # create a mask of zeros with the same shape as `data`\n",
    "    mask = np.zeros(data.shape, dtype=bool)\n",
    "\n",
    "    # populate the local peaks with `1`\n",
    "    mask[peak_locations[:, 0], peak_locations[:, 1]] = 1\n",
    "    return mask"
   ]
  },
  {
   "cell_type": "markdown",
   "id": "ff8306f1",
   "metadata": {},
   "source": [
    "Here is a function that will plot the paw prints next to the binary indicator of the local peaks."
   ]
  },
  {
   "cell_type": "code",
   "execution_count": null,
   "id": "92dc37b5",
   "metadata": {},
   "outputs": [],
   "source": [
    "def plot_compare(\n",
    "    data: np.ndarray,\n",
    "    peak_finding_function: Callable[[np.ndarray], np.ndarray],\n",
    "    cutoff: float = -np.inf,\n",
    ") -> Tuple[plt.Figure, plt.Axes]:\n",
    "    \"\"\"Plot the original data side-by-side with the binary indicator\n",
    "    for the local peaks.\n",
    "\n",
    "    Parameters\n",
    "    ----------\n",
    "    data : numpy.ndarray, shape=(N, H, W)\n",
    "        N 2D arrays of shape (H, W)\n",
    "\n",
    "    peak_finding_function : Callable[[ndarray], ndarray]\n",
    "        Returns local peak indicator for 2D array\n",
    "\n",
    "    cutoff : float, optional (default=-np.inf)\n",
    "         A threshold value that distinguishes background from foreground\n",
    "         \n",
    "    Returns\n",
    "    -------\n",
    "    Tuple[matplotlib.Figure, matplotlib.Axes]\n",
    "        The figure and axes objects of the plot\n",
    "    \"\"\"\n",
    "    fig, ax = plt.subplots(nrows=len(data), ncols=2)\n",
    "    for i, dat in enumerate(data):\n",
    "        ax[i, 0].imshow(dat)\n",
    "        ax[i, 1].imshow(peak_finding_function(dat, cutoff=cutoff))\n",
    "    return fig, ax"
   ]
  },
  {
   "cell_type": "markdown",
   "id": "8e8838b5",
   "metadata": {},
   "source": [
    "(1.8.5) Now plot a comparison to assess how well our peak-finding function works."
   ]
  },
  {
   "cell_type": "code",
   "execution_count": null,
   "id": "8a6652a4",
   "metadata": {},
   "outputs": [],
   "source": [
    "# STUDENT CODE HERE"
   ]
  },
  {
   "cell_type": "markdown",
   "id": "4d41dbd0",
   "metadata": {},
   "source": [
    "What do you see in these right-column images? \n",
    "Are these precisely the results we are looking for? \n",
    "What seems to be off?\n",
    "\n",
    "> *SOLUTION HERE*\n",
    "\n",
    "Inspect the paw print data.\n",
    "What value is used to represent the background of the image?\n",
    "What is the default value for `cutoff` in `plot_compare` for distinguishing between foreground and background?\n",
    "Try adjusting this value in order to exclude the background from the peak-finding algorithm.\n"
   ]
  },
  {
   "cell_type": "code",
   "execution_count": null,
   "id": "da63a643",
   "metadata": {},
   "outputs": [],
   "source": [
    "# STUDENT CODE HERE"
   ]
  },
  {
   "cell_type": "markdown",
   "id": "8b768923",
   "metadata": {},
   "source": [
    "Success! We are now finding local peaks in 2-D data!\n",
    "\n",
    "To summarize this process, we:\n",
    "\n",
    " - Determined a neighborhood that was appropriate for measuring local peaks.\n",
    " - Created a max-filtered version of our data.\n",
    " - Demanded that our local peaks be in the \"foreground\" of our data.\n",
    " \n",
    "This will be very useful to help us find the \"fingerprint features\" of a song, given its spectrogram (frequency vs time) data."
   ]
  },
  {
   "cell_type": "markdown",
   "id": "e3d39c4d",
   "metadata": {},
   "source": [
    "## Identifying \"Foreground\" vs \"Background\" in Real Data\n",
    "\n",
    "Although this puppy paw print data set is pretty adorable, the fact that the paw print features are neatly embedded in a background of $0$s is too convenient.\n",
    "In reality, we will likely face data where distinguishing background from a salient foreground is subtle (or perhaps entirely ill-posed).\n",
    "\n",
    "Let's consider, for instance, the spectrogram data for the trumpet waveform."
   ]
  },
  {
   "cell_type": "code",
   "execution_count": null,
   "id": "65563123",
   "metadata": {},
   "outputs": [],
   "source": [
    "# running this cell loads the PCM-encoded data for the trumpet clip\n",
    "import librosa\n",
    "\n",
    "trumpet_audio, sampling_rate = librosa.load(\"data/trumpet.wav\", sr=44100, mono=True)"
   ]
  },
  {
   "cell_type": "code",
   "execution_count": null,
   "id": "87cd5bfa",
   "metadata": {},
   "outputs": [],
   "source": [
    "# using matplotlib's built-in spectrogram function\n",
    "fig, ax = plt.subplots()\n",
    "\n",
    "S, freqs, times, im = ax.specgram(\n",
    "    trumpet_audio,\n",
    "    NFFT=4096,\n",
    "    Fs=sampling_rate,\n",
    "    window=mlab.window_hanning,\n",
    "    noverlap=4096 // 2,\n",
    ")\n",
    "fig.colorbar(im)\n",
    "\n",
    "ax.set_xlabel(\"Time (sec)\")\n",
    "ax.set_ylabel(\"Frequency (Hz)\")\n",
    "ax.set_title(\"Spectrogram of Audio Recording\")\n",
    "ax.set_ylim(0, 6000);"
   ]
  },
  {
   "cell_type": "markdown",
   "id": "bbb52ea7",
   "metadata": {},
   "source": [
    "To help us identify a \"foreground\" in the log-amplitudes of the spectrogram, we will plot the *cumulative distribution* of the log-amplitudes.\n",
    "This will allow us to identify a useful percentile below which we can consider all amplitudes to be \"background\".\n",
    "\n",
    "The following function can be used to compute [an empirical cumulative distribution function](https://en.wikipedia.org/wiki/Empirical_distribution_function) (ECDF) of our data."
   ]
  },
  {
   "cell_type": "code",
   "execution_count": null,
   "id": "3d8bbfdf",
   "metadata": {},
   "outputs": [],
   "source": [
    "import numpy as np\n",
    "\n",
    "def ecdf(data):\n",
    "    \"\"\"Returns (x) the sorted data and (y) the empirical cumulative-proportion\n",
    "    of each datum.\n",
    "    \n",
    "    Parameters\n",
    "    ----------\n",
    "    data : numpy.ndarray, size-N\n",
    "    \n",
    "    Returns\n",
    "    -------\n",
    "    Tuple[numpy.ndarray shape-(N,), numpy.ndarray shape-(N,)]\n",
    "        Sorted data, empirical CDF values\"\"\"\n",
    "    data = np.asarray(data).ravel()  # flattens the data\n",
    "    y = np.linspace(1 / len(data), 1, len(data))  # stores the cumulative proportion associated with each sorted datum\n",
    "    x = np.sort(data)\n",
    "    return x, y"
   ]
  },
  {
   "cell_type": "markdown",
   "id": "b8951954",
   "metadata": {},
   "source": [
    "Let's get a feel for what `ecdf` does by using it to plot the cumulative distribution of our log-scaled spectrogram amplitudes."
   ]
  },
  {
   "cell_type": "code",
   "execution_count": null,
   "id": "fd641e3c",
   "metadata": {},
   "outputs": [],
   "source": [
    "fig, ax = plt.subplots()\n",
    "\n",
    "x, y = ecdf(np.log(S))\n",
    "ax.plot(x, y)\n",
    "\n",
    "ax.set_xlabel(r\"$\\log(|a_{k}|)$\")\n",
    "ax.set_ylabel(r\"Cumulative proportion\")\n",
    "ax.set_title(\"Cumulative distribution of log-amplitudes\")\n",
    "ax.grid(True)"
   ]
  },
  {
   "cell_type": "markdown",
   "id": "6397a4d9",
   "metadata": {},
   "source": [
    "This cumulative distribution permits us to look up the percentiles of the log-amplitudes.\n",
    "For example, we can find the log-amplitude below which $80\\%$ of all the other present log-amplitudes fall (roughly $-2.9$).\n",
    "According to the plot above, we see that roughly $90\\%$ of all the log-amplitudes in our spectrogram fall beneath the value $0$.\n",
    "\n",
    "**Consulting the shape of this cumulative distribution can help us distinguish a sensible threshold value to distinguish foreground and background**.\n",
    "Here we see an \"elbow\" in the distribution just beyond the $60^\\text{th}$ percentile.\n",
    "We can identify the amplitude associated with this percentile with ease: just sort the amplitude data and extract the value at the integer index closest to `len(data) * 0.6`."
   ]
  },
  {
   "cell_type": "markdown",
   "id": "b23ab5d6",
   "metadata": {},
   "source": [
    "Let's find the log-amplitude associated with the $90\\%$ percentile.\n",
    "Read the documentation for `numpy.partition`, this function will enable us to rapidly find the amplitude associated with the desired percentile without having to sort all of our data."
   ]
  },
  {
   "cell_type": "code",
   "execution_count": null,
   "id": "c5bc7ca5",
   "metadata": {},
   "outputs": [],
   "source": [
    "log_S = np.log(S).ravel()  # ravel flattens 2D spectrogram into a 1D array\n",
    "ind = round(len(log_S) * 0.9)  # find the index associated with the 90th percentile log-amplitude\n",
    "cutoff_log_amplitude = np.partition(log_S, ind)[ind]  # find the actual 90th percentile log-amplitude\n",
    "cutoff_log_amplitude"
   ]
  },
  {
   "cell_type": "markdown",
   "id": "9a292ba5",
   "metadata": {},
   "source": [
    "We see that $90\\%$ of all the log-amplitudes in the spectrogram fall below $-0.346$.\n",
    "Thus $90\\%$ of all of the Fourier coefficient amplitudes in this audio clip, $|a_{k}|$, fall beneath $e^{-0.346} \\approx 0.71$. \n",
    "\n",
    "We could use $-0.346$ as a cutoff value for distinguishing foreground from background when finding peaks in the log-amplitude spectrogram for our trumpet audio clip!"
   ]
  }
 ],
 "metadata": {
  "jupytext": {
   "notebook_metadata_filter": "nbsphinx"
  },
  "kernelspec": {
   "display_name": "Python [conda env:.conda-week1]",
   "language": "python",
   "name": "conda-env-.conda-week1-py"
  },
  "nbsphinx": {
   "execute": "never"
  }
 },
 "nbformat": 4,
 "nbformat_minor": 5
}
