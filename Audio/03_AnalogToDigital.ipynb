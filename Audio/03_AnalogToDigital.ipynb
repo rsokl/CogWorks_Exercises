{
 "cells": [
  {
   "cell_type": "raw",
   "id": "b4e9fff7",
   "metadata": {
    "raw_mimetype": "text/restructuredtext"
   },
   "source": [
    ".. meta::\n",
    "    :description: Topic: recording sound, Category: Exercises\n",
    "    :keywords: analog, digital, pcm, pulse code modulation, sample rate, bit depth, nyquist"
   ]
  },
  {
   "cell_type": "markdown",
   "id": "912b2b08",
   "metadata": {},
   "source": [
    "# Exercises: Analog to Digital Encoding"
   ]
  },
  {
   "cell_type": "code",
   "execution_count": null,
   "id": "8a54481a",
   "metadata": {},
   "outputs": [],
   "source": [
    "import numpy as np\n",
    "import librosa\n",
    "import matplotlib.pyplot as plt\n",
    "from IPython.display import Audio\n",
    "from typing import Union, Callable, Tuple\n",
    "from pathlib import Path\n",
    "\n",
    "%matplotlib notebook"
   ]
  },
  {
   "cell_type": "markdown",
   "id": "7a2fc5eb",
   "metadata": {},
   "source": [
    "## Describing Our Analog Signal"
   ]
  },
  {
   "cell_type": "markdown",
   "id": "0bc262f7",
   "metadata": {},
   "source": [
    "(1.3.1) Write a function `analog_signal` that takes in a float or a NumPy array of times and evaluates the following \"Logistic Cumulative Distribution Function\" at those times\n",
    "\\begin{equation}\n",
    "f(t)=\\frac{1}{1+e^{-10(t-1)}}.\n",
    "\\end{equation}\n",
    "\n",
    "Note that the choice of this function is not particularly important, and the remaining exercises can be done by rewriting `analog_signal` to be any function of interest."
   ]
  },
  {
   "cell_type": "code",
   "execution_count": null,
   "id": "7ce3556b",
   "metadata": {},
   "outputs": [],
   "source": [
    "def analog_signal(times: np.ndarray) -> np.ndarray:\n",
    "    \"\"\"\n",
    "    Given an array of times, returns the value of an analog signal at those times.\n",
    "    \n",
    "    Parameters\n",
    "    ----------\n",
    "    times : numpy.ndarray\n",
    "        The time(s) at which to evaluate the analog signal.\n",
    "    \n",
    "    Returns\n",
    "    -------\n",
    "    numpy.ndarray\n",
    "        The value of the analog signal at the given times.\n",
    "    \"\"\"\n",
    "    # STUDENT CODE HERE"
   ]
  },
  {
   "cell_type": "markdown",
   "id": "6344509d",
   "metadata": {},
   "source": [
    "## Reviewing the Sampling Utilities from the Reading Materials"
   ]
  },
  {
   "cell_type": "markdown",
   "id": "48eef7bb",
   "metadata": {},
   "source": [
    "We will now investigate how the process of PCM can affect the fidelity of our audio signal.\n",
    "Let's start by defining a few functions.\n",
    "If you have not completed the **Writing a Sampler** and **Quantization** reading comprehension exercises [from the previous section](https://rsokl.github.io/CogWeb/Audio/digitizing_signals.html), you may wish to go back and work those problems before proceeding here.\n",
    "\n",
    "Below are two functions, `temporal_sampler` and `quantize`, which in tandem allow us to sample and quantize a given analog signal to construct a digital signal."
   ]
  },
  {
   "cell_type": "code",
   "execution_count": null,
   "id": "8b077852",
   "metadata": {},
   "outputs": [],
   "source": [
    "def temporal_sampler(\n",
    "    signal: Callable[[np.ndarray], np.ndarray], *, duration: float, sampling_rate: float\n",
    ") -> Tuple[np.ndarray, np.ndarray]:\n",
    "    \"\"\"\n",
    "    Extracts samples from an analog signal according to the specified sampling rate,\n",
    "    returning the times and the corresponding samples extracted at those times.\n",
    "\n",
    "    Parameters\n",
    "    ----------\n",
    "    signal : Callable[[ndarray], ndarray]\n",
    "        Another Python function (i.e. a \"callable\"), which behaves like f(t)\n",
    "        and accepts a time value (in seconds) as an input and returns a\n",
    "        measurement (e.g. in volts) as an output. You can expect this to behave like\n",
    "        a vectorized function i.e. it can be passed a NumPy-array of input times\n",
    "        and it will return a corresponding array of measurements.\n",
    "\n",
    "    duration : float\n",
    "        The duration of the signal, specified in seconds (a non-negative float)\n",
    "\n",
    "    sampling_rate : float\n",
    "        The sampling rate specified in Hertz.\n",
    "\n",
    "    Returns\n",
    "    -------\n",
    "    (times, samples) : Tuple[ndarray, ndarray]\n",
    "        The shape-(N,) array of times and the corresponding shape-(N,) array\n",
    "        samples extracted from the analog signal\n",
    "\n",
    "    \"\"\"\n",
    "    N_samples = np.floor(sampling_rate * duration) + 1\n",
    "\n",
    "    # shape-(N,) array of times at which we sample the analog signal\n",
    "    times = np.arange(N_samples) * (1 / sampling_rate)  # seconds\n",
    "\n",
    "    # shape-(N,) array of samples extracted from the analog signal\n",
    "    samples = signal(times)\n",
    "\n",
    "    return times, samples\n",
    "\n",
    "\n",
    "def quantize(samples: np.ndarray, bit_depth: int) -> np.ndarray:\n",
    "    \"\"\"\n",
    "    Given an array of N samples and a bit-depth of M, return the array of\n",
    "    quantized samples derived from the domain [samples.min(), samples.max()]\n",
    "    that has been quantized into 2**M evenly-spaced values.\n",
    "\n",
    "    Parameters\n",
    "    ----------\n",
    "    samples : numpy.ndarray, shape-(N,)\n",
    "        An array of N samples\n",
    "\n",
    "    bit_depth: int\n",
    "        The bit-depth, M, used to quantize the samples among\n",
    "        2**M evenly spaced values spanning [samples.min(), samples.max()].\n",
    "\n",
    "    Returns\n",
    "    -------\n",
    "    quantized_samples : numpy.ndarray, shape-(N,)\n",
    "        The corresponding array where each sample has been replaced\n",
    "        by the nearest quantized value\n",
    "\n",
    "    Examples\n",
    "    --------\n",
    "    >>> import numpy as np\n",
    "    >>> samples = np.array([0, .25, .75, 1])\n",
    "    >>> quantize(samples, 1) # quantize among 2 values\n",
    "    array([0., 0., 1., 1.])\n",
    "    >>> quantize(samples, 1) # quantize among 4 values\n",
    "    array([0., 0.3333, .6666, 1.])\n",
    "    \"\"\"\n",
    "\n",
    "    assert bit_depth <= 14, \"Exceeding this bit-depth might tank your computer!\"\n",
    "\n",
    "    # create the 2**M evenly-spaced quantized values,\n",
    "    # spanning [samples.min(), samples.max()]\n",
    "    quantized_values = np.linspace(samples.min(), samples.max(), 2 ** bit_depth)\n",
    "\n",
    "    # Broadcast subtract: shape-(N, 1) w/ shape-(M**2,) -> shape(N, M**2)\n",
    "    # `abs_differences[i]` is the absolute difference between sample-i and\n",
    "    # each of the M**2 quantized values\n",
    "    abs_differences = np.abs(samples[:, np.newaxis] - quantized_values)\n",
    "\n",
    "    # For each sample, find which quantized value it is closest to.\n",
    "    # Produced shape-(N,) array on indices on [0, 2**M)\n",
    "    bin_lookup = np.argmin(abs_differences, axis=1)\n",
    "\n",
    "    # Populate a shape-(N,) array, where each sample has been\n",
    "    # replaced by its nearest quantized value. This leverages\n",
    "    # advanced integer-array indexing\n",
    "    return quantized_values[bin_lookup]"
   ]
  },
  {
   "cell_type": "markdown",
   "id": "13f9117d",
   "metadata": {},
   "source": [
    "## Creating an End-to-End Analog-to-Digital Conversion Function"
   ]
  },
  {
   "cell_type": "markdown",
   "id": "5ca70365",
   "metadata": {},
   "source": [
    "(1.3.2) Using the above functions, write a function `analog_to_digital` that takes in\n",
    "\n",
    "* an analog signal (a Python-function $f(t)$)\n",
    "* sampling rate ($f_s$)\n",
    "* bit-depth ($N_d$)\n",
    "* signal duration ($T$)\n",
    "\n",
    "and yields a tuple containing \n",
    "\n",
    "1. the times, $(t_n)_{n=0}^{N-1}$, at which the samples were taken \n",
    "2. the corresponding digital samples, $(f(t_n))_{n=0}^{N-1}$, extracted from the analog signal at those times\n",
    "\n",
    "Hint: you will first want to extract temporal samples from the analog signal, then quantize those samples.\n",
    "Given the functions provided above, this should be a relatively short/simple function.\n",
    "\n",
    "Note that the `*` in the following function signature makes `sampling_rate`, `bit_depth`, and `duration` [\"keyword-only\" arguments](https://www.pythonlikeyoumeanit.com/Module2_EssentialsOfPython/Functions.html#Arguments) – they can only be passed their values by name when invoking the function.\n",
    "This is so the user can't accidentally flip values for, say, the duration and the sampling rate."
   ]
  },
  {
   "cell_type": "code",
   "execution_count": null,
   "id": "e2bde586",
   "metadata": {},
   "outputs": [],
   "source": [
    "def analog_to_digital(\n",
    "    analog_signal: Callable[[np.ndarray], np.ndarray],\n",
    "    *,\n",
    "    sampling_rate: float,\n",
    "    bit_depth: int,\n",
    "    duration: float\n",
    ") -> Tuple[np.ndarray, np.ndarray]:\n",
    "    \"\"\"\n",
    "    Digitizes a given analog signal based on desired sampling rate and bit-depth.\n",
    "    \n",
    "    Parameters\n",
    "    ----------\n",
    "    analog_signal : Callable[[ndarray], ndarray]\n",
    "        Another Python function, f(t), which accepts a time value (in seconds) as\n",
    "        an input and returns a measurement (in volts) as an output.\n",
    "    \n",
    "    sampling_rate : float\n",
    "        The sampling rate specified in Hertz.\n",
    "    \n",
    "    bit_depth: int\n",
    "        The bit-depth, M, used to quantize the samples among\n",
    "        2**M evenly spaced values spanning [samples.min(), samples.max()].\n",
    "    \n",
    "    duration : float\n",
    "        The duration of the signal, specified in seconds (a non-negative float).\n",
    "    \n",
    "    Returns\n",
    "    -------\n",
    "    (times, digital_signal) : Tuple[ndarray, ndarray]\n",
    "        The shape-(N,) array of times and the corresponding\n",
    "        shape-(N,) array representing the digital signal.\n",
    "    \"\"\"\n",
    "    # STUDENT CODE HERE"
   ]
  },
  {
   "cell_type": "markdown",
   "id": "ae638157",
   "metadata": {},
   "source": [
    "### Testing Our Code"
   ]
  },
  {
   "cell_type": "markdown",
   "id": "d9b94a7d",
   "metadata": {},
   "source": [
    "Let's test out our work so far.\n",
    "The following cell will plot a \"continuous\" version of $f(t)$ (`analog_signal`), and then will use our implementation of `analog_to_digital` to plot discrete samples of the function on top of it.\n",
    "\n",
    "The duration ($T$), sampling rate ($f_s$), and bit-depth ($N_d$) are set at the top of the code cell.\n",
    "Based on these values, do the plotted discrete samples occur at the appropriate time intervals given $f_s$? \n",
    "Are there the appropriate number of distinct measurement values, given $N_d$?\n",
    "\n",
    "Try changing these values to see that `analog_to_digital` continues to produce the appropriate output."
   ]
  },
  {
   "cell_type": "code",
   "execution_count": null,
   "id": "a5c2965f",
   "metadata": {},
   "outputs": [],
   "source": [
    "# feel free to change these\n",
    "duration = 2  # seconds\n",
    "sample_rate = 10  # Hz\n",
    "bit_depth = 2  # bits\n",
    "\n",
    "\n",
    "# You don't need to change any of the remaining code\n",
    "# simply read through it and then run this cell\n",
    "fig, ax = plt.subplots()\n",
    "\n",
    "# we densely sample the analog analog_signal to make it look like\n",
    "# it is continuous\n",
    "dense_t = np.linspace(0, duration, 10000)  # seconds\n",
    "ax.plot(dense_t, analog_signal(dense_t), ls=\"--\", alpha=0.5)\n",
    "\n",
    "\n",
    "# extract samples that have been discretized in time and quantized\n",
    "times, samples = analog_to_digital(\n",
    "    analog_signal=analog_signal,\n",
    "    duration=duration,\n",
    "    sampling_rate=sample_rate,\n",
    "    bit_depth=bit_depth,\n",
    ")\n",
    "\n",
    "# plot our digital samples on top of the analog signal\n",
    "ax.stem(\n",
    "    times,\n",
    "    samples,\n",
    "    \"red\",\n",
    "    markerfmt=\"ro\",\n",
    "    basefmt=\" \",\n",
    "    use_line_collection=True,\n",
    ")\n",
    "ax.set_xlabel(\"Time [seconds]\")\n",
    "ax.set_ylabel(\"Proportional to Volts\")\n",
    "ax.grid(True)"
   ]
  },
  {
   "cell_type": "markdown",
   "id": "6fe86d33",
   "metadata": {},
   "source": [
    "### Examining the Effects of Sampling Rate and Bit-Depth"
   ]
  },
  {
   "cell_type": "markdown",
   "id": "ef9aabc2",
   "metadata": {},
   "source": [
    "(1.3.3) Let's finally take a look at how different choices of `sampling_rate` and `bit_depth` will affect our digital signal.\n",
    "Below is code that will plot the digital signal for various choices of sampling rate and bits.\n",
    "In particular, from left to right, the columns represent bit-depths of $2$, $4$, and $8$.\n",
    "Top to bottom, the rows represent sampling rates of $1\\:\\mathrm{Hz}$, $10\\:\\mathrm{Hz}$, and $100\\:\\mathrm{Hz}$.\n",
    "\n",
    "Try changing the sampling rates, bit depth, and analog signal used and see how the digital signal is affected."
   ]
  },
  {
   "cell_type": "code",
   "execution_count": null,
   "id": "524af9d1",
   "metadata": {},
   "outputs": [],
   "source": [
    "sampling_rates = [1, 10, 100]  # Hz\n",
    "bit_depths = [2, 4, 8]  # bits\n",
    "\n",
    "# run this cell - you don't need to change anything below this comment\n",
    "\n",
    "fig, axes = plt.subplots(nrows=len(sampling_rates), ncols=len(bit_depths))\n",
    "\n",
    "min_ = 0\n",
    "max_ = 2\n",
    "duration = max_ - min_\n",
    "\n",
    "dense_times = np.linspace(min_, max_, 10 ** 5)\n",
    "dense_sampling = analog_signal(dense_times)\n",
    "\n",
    "for i, sr in enumerate(sampling_rates): # sampling rates\n",
    "    for j, bits in enumerate(bit_depths): # bit-depths\n",
    "        axes[i, j].plot(dense_times, dense_sampling)\n",
    "\n",
    "        sampling_time, digital_signal = analog_to_digital(\n",
    "            analog_signal, sampling_rate=sr, bit_depth=bits, duration=duration\n",
    "        )\n",
    "        axes[i, j].step(sampling_time, digital_signal, where=\"mid\")\n",
    "\n",
    "        for tic in axes[i, j].xaxis.get_major_ticks():\n",
    "            tic.tick1line.set_visible(False)\n",
    "            tic.tick2line.set_visible(False)\n",
    "            tic.label1.set_visible(False)\n",
    "            tic.label2.set_visible(False)\n",
    "        for tic in axes[i, j].yaxis.get_major_ticks():\n",
    "            tic.tick1line.set_visible(False)\n",
    "            tic.tick2line.set_visible(False)\n",
    "            tic.label1.set_visible(False)\n",
    "            tic.label2.set_visible(False)\n",
    "\n",
    "        if i == 0 or i == 2:\n",
    "            if i == 0:\n",
    "                axes[i, j].set_title(f\"N_d={bits}\\nfs={sr}Hz\")\n",
    "            else:\n",
    "                axes[i, j].set_xlabel(f\"N_d={bits}\\nfs={sr}Hz\")\n",
    "\n",
    "        axes[i, j].grid(True)\n",
    "fig.tight_layout()"
   ]
  },
  {
   "cell_type": "markdown",
   "id": "008a4363",
   "metadata": {},
   "source": [
    "## Hearing the Effects of Sampling Rate and Bit-Depth"
   ]
  },
  {
   "cell_type": "markdown",
   "id": "49e8c931",
   "metadata": {},
   "source": [
    "**A Quick Aside: Raw Strings**\n",
    "\n",
    "We are going to be be writing strings as paths to files on our computers.\n",
    "This can lead to some unexpected complications that can be quite confusing at first. \n",
    "Consider the following Windows-format path:\n",
    "\n",
    "```\n",
    "\"D:\\Music\\new_song.mp3\"\n",
    "```\n",
    "\n",
    "Let's try printing this string in Python:\n",
    "\n",
    "```python\n",
    "# Our path contains \\n, which is treated as a single newline character\n",
    ">>> print(\"D:\\Music\\new_song.mp3\")\n",
    "D:\\Music\n",
    "ew_song.mp3\n",
    "```\n",
    "\n",
    "Recall that `\"\\n\"` is treated as a *single*, special character in Python; in particular, it represents a newline character.\n",
    "`\"\\n\"` is one of several so-called escape characters (e.g. `\"\\t\"` is the escape character for tab).\n",
    "\n",
    "We want to avoid these escape characters from affecting our file-paths.\n",
    "Indeed, the `\\` character is supposed to serve as a directory separator on a Windows system.\n",
    "Fortunately, we can tell Python to forego its interpretation of escape characters by making a string into a raw-string.\n",
    "We do this by pre-pending an `r` *before* the opening quotation mark of the string.\n",
    "\n",
    "```python\n",
    "# normal string\n",
    "\"hello\"\n",
    "\n",
    "# raw string\n",
    "r\"hello\"\n",
    "```\n",
    "```python\n",
    "# Creating a raw-string of our path by pre-pending an\n",
    "# r before the string prevents Python from looking for\n",
    "# escape characters\n",
    ">>> print(r\"D:\\Music\\new_song.mp3\")\n",
    "D:\\Music\\new_song.mp3\n",
    "```\n",
    "\n",
    "Thus it is prudent to store string paths as raw strings throughout our code."
   ]
  },
  {
   "cell_type": "markdown",
   "id": "dfa7219b",
   "metadata": {
    "lines_to_next_cell": 0
   },
   "source": [
    "**Back to Digitizing Signals!** \n",
    "\n",
    "Finally let's take a look at how we can modify music files that have already been recorded.\n",
    "We can use Librosa to work with music files in Python.\n",
    "Start by picking out a song you have on your computer, and use Librosa to load the first $11$ seconds of said song.\n",
    "\n",
    "Note that on Windows, you can hold Shift and right-click on your audio file; among the options that pop-up, there should be a \"Copy as path\" option, which is a convenient way to get a string representation of the path to that file on your computer.\n",
    "On MacOS, this can be similarly accomplished by right-clicking then holding Option - in the menu will be a \"Copy <file name> as Pathname\", which will copy the file path to your clipboard."
   ]
  },
  {
   "cell_type": "code",
   "execution_count": null,
   "id": "69f01986",
   "metadata": {},
   "outputs": [],
   "source": [
    "# using librosa to read in audio samples from a sound file (e.g. .mp3 or .wav) as a numpy array \n",
    "\n",
    "# The r in front to the string is to treat the string as a \"raw string\".\n",
    "# This guarantees that characters like `\\n` get interpreted literally,\n",
    "# and not in special ways (e.g. like a line break)\n",
    "local_song_path = r\"path/to_a/song/on/your/computer.mp3\"\n",
    "\n",
    "length = 11  # seconds\n",
    "\n",
    "# load the digital signal for the first 11 seconds of the song\n",
    "samples, sampling_rate = librosa.load(local_song_path, sr=44100, mono=True, duration=length)"
   ]
  },
  {
   "cell_type": "markdown",
   "id": "53d61076",
   "metadata": {},
   "source": [
    "(1.3.4) Write some simple code to investigate the following:\n",
    " \n",
    " - What is the data type of the array `samples`?\n",
    " - What is the shape of `samples`? \n",
    "   - Does the number of elements in the array make sense based on the sampling rate and the duration of the clip?\n",
    " - What are the minimum and maximum values stored in the array?\n",
    "   - What does this imply about the relative \"loudness\" songs that are loaded by librosa in this way?\n",
    " "
   ]
  },
  {
   "cell_type": "code",
   "execution_count": null,
   "id": "0801cc5c",
   "metadata": {},
   "outputs": [],
   "source": [
    "# STUDENT CODE HERE"
   ]
  },
  {
   "cell_type": "markdown",
   "id": "2973ff6e",
   "metadata": {},
   "source": [
    "You can listen to this audio clip using the following"
   ]
  },
  {
   "cell_type": "code",
   "execution_count": null,
   "id": "b8b362b0",
   "metadata": {},
   "outputs": [],
   "source": [
    "Audio(samples, rate=sampling_rate)"
   ]
  },
  {
   "cell_type": "markdown",
   "id": "50771bb5",
   "metadata": {},
   "source": [
    "(1.3.5) There is a very good chance that the recording was digitized at a sampling rate of $f_s=44,100\\:\\mathrm{Hz}$ and with a bit-depth of $N_d=16$.\n",
    "\n",
    "What would our music would sound like if it were recorded with a lower sampling rate and/or bit-depth?\n",
    "\n",
    "To do this, we'll start by re-sampling the data we loaded in, thus changing the sampling rate of the signal.\n",
    "Of course it would not be possible to re-sample the data at a *higher* sampling rate than that originally used, but we can still down-sample the data by skipping over samples.\n",
    "\n",
    "Let's say we wanted to sample with a sampling rate of $1,000\\:\\mathrm{Hz}$.\n",
    "We initially recorded with a sampling rate of $44,100\\:\\mathrm{Hz}$, meaning our digital signal has $11\\:\\mathrm{sec}\\cdot44,100\\:\\mathrm{Hz}=485,100$ samples.\n",
    "However, we want to re-sample our signal such that we only have $11\\:\\mathrm{sec}\\cdot1,000\\:\\mathrm{Hz}=11,000$ samples.\n",
    "This means that to re-sample our song at $1,000\\:\\mathrm{Hz}$, we will need to only take every $\\frac{485,100}{11,000}=44.1^\\text{th}$ sample.\n",
    "Since we can only skip over an integer number of samples, we will have to settle for every $\\big\\lfloor\\frac{485,100}{11,000}\\big\\rfloor=44^\\text{th}$ sample.\n",
    "\n",
    "We can \"resample\" our data in this way as,\n",
    "\n",
    "```python\n",
    "skip = 44\n",
    "resampled_signal = samples[::skip]  # audio at 1000 Hz\n",
    "```\n",
    "\n",
    "Now, generalize this code so that you can specify any new sampling rate (that is less than the original rate) and `skip` will be set to the correct value.\n",
    "Re-sample the recording at a rate of $2,000\\:\\mathrm{Hz}$."
   ]
  },
  {
   "cell_type": "code",
   "execution_count": null,
   "id": "85c32ac9",
   "metadata": {},
   "outputs": [],
   "source": [
    "# STUDENT CODE HERE"
   ]
  },
  {
   "cell_type": "markdown",
   "id": "92b3ea6c",
   "metadata": {},
   "source": [
    "Note that this re-sampling will not be a perfect process.\n",
    "You can easily check that the size of the re-sampled signal is not what you would expect it to be.\n",
    "\n",
    "This has to do with the fact that we can only truly re-sample the original analog signal if we choose our new sampling rate to be a factor of the original sampling rate.\n",
    "To re-sample our original signal for non-factor sampling rates would require more advanced signal processing.\n",
    "However, we will take this method of re-sampling to be sufficient for our purposes."
   ]
  },
  {
   "cell_type": "markdown",
   "id": "027569ab",
   "metadata": {},
   "source": [
    "Now, we could play our re-sampled signal out at a rate of $2,000\\:\\mathrm{Hz}$, but there is a good chance that your computer will not be able to actually play this.\n",
    "We will thus have to get a bit clever and \"stretch out\" our signal back to be re-played at $44,100\\:\\mathrm{Hz}$.\n",
    "We can use [numpy.repeat](https://numpy.org/doc/stable/reference/generated/numpy.repeat.html) to do this."
   ]
  },
  {
   "cell_type": "code",
   "execution_count": null,
   "id": "1ac08577",
   "metadata": {},
   "outputs": [],
   "source": [
    "# \"stretches\" signal so that it can be played by audio plugin\n",
    "resampled_signal = np.repeat(resampled_signal, skip)"
   ]
  },
  {
   "cell_type": "markdown",
   "id": "8e8b3ca5",
   "metadata": {},
   "source": [
    "Finally, replay the re-sampled signal using"
   ]
  },
  {
   "cell_type": "code",
   "execution_count": null,
   "id": "2cab54a9",
   "metadata": {},
   "outputs": [],
   "source": [
    "Audio(resampled_signal, rate=44100)"
   ]
  },
  {
   "cell_type": "markdown",
   "id": "6ea287f2",
   "metadata": {},
   "source": [
    "and note how different the re-sampled audio sounds to the original song.\n",
    "Which of the original notes (high frequencies or low frequencies) can you still make out?"
   ]
  },
  {
   "cell_type": "markdown",
   "id": "adc72139",
   "metadata": {},
   "source": [
    "(1.3.6) Now that we've re-sampled the recording, let's re-quantize it as well.\n",
    "To do this, we simply need to leverage the `quantize` function defined earlier, passing in the recording and the desired bit-depth.\n",
    "Again, we can't choose a bit-depth greater than that of the original recording, but we can always choose a lower value.\n",
    "\n",
    "Re-quantize the re-sampled signal with a new bit-depth of $N_b=3$."
   ]
  },
  {
   "cell_type": "code",
   "execution_count": null,
   "id": "6d0b1324",
   "metadata": {},
   "outputs": [],
   "source": [
    "# STUDENT CODE HERE"
   ]
  },
  {
   "cell_type": "markdown",
   "id": "b2366fb2",
   "metadata": {},
   "source": [
    "Again, play the now re-quantized recording, and notice how it differs from the original clip."
   ]
  },
  {
   "cell_type": "code",
   "execution_count": null,
   "id": "02bdf51d",
   "metadata": {},
   "outputs": [],
   "source": [
    "# STUDENT CODE HERE"
   ]
  },
  {
   "cell_type": "markdown",
   "id": "e3faf8fa",
   "metadata": {},
   "source": [
    "Go back and play with these numbers.\n",
    "For example, try keeping the original sampling rate but then re-quantize the song at a lower bit-rate."
   ]
  },
  {
   "cell_type": "markdown",
   "id": "923730b3",
   "metadata": {},
   "source": [
    "(1.3.7) Finally let's graphically compare our re-sampled and re-quantized song to the original.\n",
    "Repeat the re-sampling and re-quantization process from above, on the original samples, now with a sampling rate of $40\\:\\mathrm{Hz}$ and a bit-depth of $4$.\n",
    "Then plot the first $5$ seconds of each of the signals below.\n",
    "Use the `plot` method for the original song and the `step` method for the modified signal.\n",
    "\n",
    "Play around with the choices of sampling rate and bit-depth to see how changing these values impacts the digital signal."
   ]
  },
  {
   "cell_type": "code",
   "execution_count": null,
   "id": "d4f9a1ad",
   "metadata": {},
   "outputs": [],
   "source": [
    "sampling_rate = 40\n",
    "bit_depth = 4\n",
    "\n",
    "\n",
    "# Use your code from (1.4) to resample the song clip at\n",
    "# the desired sampling rate. Then apply `quantize` to \n",
    "# these samples with the appropriatebit-depth. Call \n",
    "# the result `new_signal`.\n",
    "\n",
    "# STUDENT CODE HERE\n",
    "\n",
    "\n",
    "# Define `n_samples_orig` the number of samples associated\n",
    "# with 5 seconds of an audio recording with a sampling rate\n",
    "# of 44,100 Hz\n",
    "# STUDENT CODE HERE\n",
    "\n",
    "# Similarly, define `n_samples_new` the number of samples associated\n",
    "# with 5 seconds of an audio recording with the sampling rate: `sampling_rate`\n",
    "# STUDENT CODE HERE\n",
    "\n",
    "fig, ax = plt.subplots(1, 1)\n",
    "\n",
    "ax.plot(np.linspace(0, 5, n_samples_orig), samples[: n_samples_orig])\n",
    "ax.step(np.linspace(0, 5, n_samples_new), new_signal[: n_samples_new], where=\"mid\")\n",
    "ax.set_xlabel(\"Time [seconds]\")\n",
    "ax.set_ylabel(\"Amplitude [Proportional to Volts]\");"
   ]
  }
 ],
 "metadata": {
  "jupytext": {
   "notebook_metadata_filter": "nbsphinx"
  },
  "kernelspec": {
   "display_name": "Python [conda env:.conda-week1]",
   "language": "python",
   "name": "conda-env-.conda-week1-py"
  },
  "nbsphinx": {
   "execute": "never"
  }
 },
 "nbformat": 4,
 "nbformat_minor": 5
}
