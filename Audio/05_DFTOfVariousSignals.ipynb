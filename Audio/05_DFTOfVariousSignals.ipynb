{
 "cells": [
  {
   "cell_type": "raw",
   "id": "31e3a483",
   "metadata": {
    "raw_mimetype": "text/restructuredtext"
   },
   "source": [
    ".. meta::\n",
    "   :description: Topic: Discrete Fourier Transforms, Category: Exercises\n",
    "   :keywords: applications, examples, dft, Fourier spectrum"
   ]
  },
  {
   "cell_type": "markdown",
   "id": "fe37c5db",
   "metadata": {},
   "source": [
    "<div class=\"alert alert-warning\">\n",
    "\n",
    "**Source Material**:\n",
    "\n",
    "The following exercises are adapted from Chapter 7 of [Mark Newman's book, \"Computational Physics\"](http://www-personal.umich.edu/~mejn/cp/)\n",
    "\n",
    "</div>\n"
   ]
  },
  {
   "cell_type": "markdown",
   "id": "b27ec02e",
   "metadata": {},
   "source": [
    "# Exercises: DFTs of Various Signals"
   ]
  },
  {
   "cell_type": "code",
   "execution_count": null,
   "id": "9ea8b7da",
   "metadata": {},
   "outputs": [],
   "source": [
    "import numpy as np\n",
    "import matplotlib.pyplot as plt\n",
    "from typing import Tuple\n",
    "\n",
    "%matplotlib notebook"
   ]
  },
  {
   "cell_type": "markdown",
   "id": "aeb4fab1",
   "metadata": {},
   "source": [
    "For all problems, take $N = 1,000$ as the number of samples"
   ]
  },
  {
   "cell_type": "markdown",
   "id": "e63e62ca",
   "metadata": {},
   "source": [
    "(1.5.1) Perform a DFT on a single period of a square wave of amplitude $1$.\n",
    "Its period is $5$ seconds long.\n",
    "Plot the wave form versus time and plot the Fourier spectrum, $|a_{k}|$ vs $\\nu_{k}$.\n",
    "\n",
    "Here is some code that you can use to plot these side-by-side:\n",
    "\n",
    "```python\n",
    "fig, (ax1, ax2) = plt.subplots(ncols=2, figsize=(8, 4))\n",
    "ax1.plot(t, y, marker=\"o\")  # plot time (t) and waveform (y)\n",
    "ax1.grid()\n",
    "ax1.set_xlabel(\"t (seconds)\")\n",
    "\n",
    "ax2.stem(freqs, amps, basefmt=\" \", use_line_collection=True) # plot frequency (freqs) and amplitudes (amps)\n",
    "ax2.set_xlim(0, 10)\n",
    "ax2.grid()\n",
    "ax2.set_ylabel(r\"$|a_{k}|$\")\n",
    "ax2.set_xlabel(r\"$\\nu_{k}$ (Hz)\")\n",
    "fig.tight_layout()\n",
    "```\n",
    "\n",
    "A square wave is like a sine-wave, except a square wave only takes on values of $1$ (wherever $\\sin(x)$ is positive) or $-1$ (wherever $\\sin(x)$ is negative)."
   ]
  },
  {
   "cell_type": "code",
   "execution_count": null,
   "id": "ed04c6d6",
   "metadata": {},
   "outputs": [],
   "source": [
    "# STUDENT CODE HERE"
   ]
  },
  {
   "cell_type": "markdown",
   "id": "6cf1a5b3",
   "metadata": {},
   "source": [
    "(1.5.2) Perform a DFT for the simple linear function $y_{t} = t$ for $1000$ seconds in duration.\n",
    "Plot both the waveform and the Fourier spectrum,  $|a_{k}|$ vs $\\nu_{k}$."
   ]
  },
  {
   "cell_type": "code",
   "execution_count": null,
   "id": "d4bba277",
   "metadata": {
    "lines_to_next_cell": 2
   },
   "outputs": [],
   "source": [
    "# STUDENT CODE HERE"
   ]
  },
  {
   "cell_type": "markdown",
   "id": "1815cdc3",
   "metadata": {},
   "source": [
    "(1.5.3) Perform a DFT for the modulated wave $\\sin\\!\\big(\\frac{\\pi t}{Q}\\big) \\sin\\!\\big(\\frac{20 \\pi t}{Q}\\big)$, where $Q=5\\:\\mathrm{seconds}$.\n",
    "Sample this signal **over two periods of the lower-frequency term (a.k.a the modulating term)**.\n",
    "\n",
    "- What are the frequencies of the respective terms in our modulated wave? \n",
    "- Do you expect that these two frequencies present in the Fourier spectrum? Why might we expect for different frequencies to be prominent in our series (hint: compare the functional form of this waveform to that of a Fourier series)?\n",
    "- Use the relationship $\\sin{(a)}\\sin{(b)}=\\frac{1}{2}(\\cos{(a-b)} - \\cos{(a+b)})$ to rewrite this modulated wave as a sum of cosines.\n",
    "From this, predict the number, locations, and heights of the peaks in your Fourier spectrum.\n",
    "- Plot the wave form vs time and plot the Fourier spectrum, $|a_{k}|$ vs $\\nu_{k}$.\n",
    "Be sure to zoom in on your peaks.\n",
    "\n",
    "> *SOLUTION HERE*"
   ]
  },
  {
   "cell_type": "code",
   "execution_count": null,
   "id": "73d293ac",
   "metadata": {},
   "outputs": [],
   "source": [
    "# STUDENT CODE HERE"
   ]
  },
  {
   "cell_type": "markdown",
   "id": "9b3759b8",
   "metadata": {},
   "source": [
    "(1.5.4) Perform a DFT on a noisy (i.e. random) signal that is centered around $0$.\n",
    "Have the noisy signal last for $5$ seconds."
   ]
  },
  {
   "cell_type": "code",
   "execution_count": null,
   "id": "b601c636",
   "metadata": {},
   "outputs": [],
   "source": [
    "# STUDENT CODE HERE"
   ]
  }
 ],
 "metadata": {
  "jupytext": {
   "notebook_metadata_filter": "nbsphinx"
  },
  "kernelspec": {
   "display_name": "Python 3",
   "language": "python",
   "name": "python3"
  },
  "nbsphinx": {
   "execute": "never"
  }
 },
 "nbformat": 4,
 "nbformat_minor": 5
}
