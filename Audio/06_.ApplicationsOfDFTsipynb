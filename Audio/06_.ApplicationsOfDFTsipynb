{
 "cells": [
  {
   "cell_type": "raw",
   "id": "217541eb",
   "metadata": {
    "raw_mimetype": "text/restructuredtext"
   },
   "source": [
    ".. meta::\n",
    "   :description: Topic: Discrete Fourier Transforms, Category: Exercises\n",
    "   :keywords: applications, examples, dft, Fourier spectrum"
   ]
  },
  {
   "cell_type": "markdown",
   "id": "c7175aac",
   "metadata": {},
   "source": [
    "<div class=\"alert alert-warning\">\n",
    "\n",
    "**Source Material**:\n",
    "\n",
    "The following exercises are adapted from Chapter 7 of [Mark Newman's book, \"Computational Physics\"](http://www-personal.umich.edu/~mejn/cp/)\n",
    "\n",
    "</div>\n"
   ]
  },
  {
   "cell_type": "markdown",
   "id": "7e22f90d",
   "metadata": {},
   "source": [
    "# Exercises: Applications of DFTs"
   ]
  },
  {
   "cell_type": "code",
   "execution_count": null,
   "id": "7e5eb12e",
   "metadata": {},
   "outputs": [],
   "source": [
    "import numpy as np\n",
    "import matplotlib.pyplot as plt\n",
    "from typing import Tuple\n",
    "\n",
    "%matplotlib notebook"
   ]
  },
  {
   "cell_type": "markdown",
   "id": "14bd80bb",
   "metadata": {},
   "source": [
    "### Sunspot Data Analysis \n",
    "\n",
    "(1.6.1a) Read in the `sunspots.txt` data as a 2-D array.\n",
    "This file contains the number of recorded sunspots in a given month over a timespan of hundreds of years.\n",
    "\n",
    "There are two columns of numbers (separated by tabs) in the data.\n",
    "The first column is the number of the recorded month.\n",
    "The second column is the number of sunspots recorded in that month. \n",
    "\n",
    "Use the following code to read in this data:\n",
    "\n",
    "```python\n",
    "with open(\"data/sunspots.txt\", \"r\") as F:\n",
    "    # Produces a shape-(N, 2) array\n",
    "    # column-0: month number\n",
    "    # column-1: count of sunspots that month\n",
    "    data = np.array([[float(i) for i in j.split('\\t')] for j in F])\n",
    "    \n",
    "```\n",
    "\n",
    "Once you read in the data, determine: how many months are accounted for in this dataset?\n",
    "What are the range (minimum and maximum) of number of sunspots per month recorded in this dataset?\n",
    "\n",
    "Plot this data with labeled axes."
   ]
  },
  {
   "cell_type": "code",
   "execution_count": null,
   "id": "668cfde1",
   "metadata": {},
   "outputs": [],
   "source": [
    "# STUDENT CODE HERE"
   ]
  },
  {
   "cell_type": "markdown",
   "id": "ede1c921",
   "metadata": {},
   "source": [
    "(1.6.1b) Estimate the frequency of the slowly-oscillating pattern in the data that manifests between the major peaks that we see in the plot.\n",
    "Do this by visual inspection (you can click on the box button in the bottom-left of the plot to do a box-zoom); determine roughly the number of months that separate consecutive peaks, and then convert this into a frequency (with units of 1/month).\n",
    "\n",
    "> 1.6.1b Solution: *SOLUTION HERE*"
   ]
  },
  {
   "cell_type": "markdown",
   "id": "2bedca3e",
   "metadata": {},
   "source": [
    "(1.6.2) Take a DFT of this real-valued data and consult the power spectrum, $|a_{k}|$ vs $\\nu_{k}$, to evaluate the periodicity of the data."
   ]
  },
  {
   "cell_type": "code",
   "execution_count": null,
   "id": "cd83bace",
   "metadata": {},
   "outputs": [],
   "source": [
    "# STUDENT CODE HERE"
   ]
  },
  {
   "cell_type": "markdown",
   "id": "453d7994",
   "metadata": {},
   "source": [
    "(1.6.3) What is the cause of the large peak at $k = 0$?\n",
    "Study the form of the equation for the discrete Fourier transform, specifically for $c_{k=0}$.\n",
    "What is the simple relationship between $c_{k=0}$ and the data $({y_{n}})_{n=0}^{N-1}$?\n",
    "Uniformly adjust the sunspot data so that $c_{k=0} \\approx 0$ when you take the Fourier transform of this updated data, and plot the Fourier spectrum of the new data.\n",
    "\n",
    "> *SOLUTION HERE*"
   ]
  },
  {
   "cell_type": "code",
   "execution_count": null,
   "id": "9cd90662",
   "metadata": {},
   "outputs": [],
   "source": [
    "# STUDENT CODE HERE"
   ]
  },
  {
   "cell_type": "markdown",
   "id": "bdc96969",
   "metadata": {},
   "source": [
    "### Analyzing Audio Signals from Instruments"
   ]
  },
  {
   "cell_type": "markdown",
   "id": "fdaa6d19",
   "metadata": {},
   "source": [
    "(1.6.4) Read in the digital audio signal for a trumpet, from `data/trumpet.txt`, as an array of integers.\n",
    "This signal was recorded at a rate of $44.1\\;\\mathrm{kHz}$, which is the defacto standard for audio sampling (as implemented by Sony).\n",
    "\n",
    "You can read in the digital samples with the code:\n",
    "\n",
    "```python\n",
    "with open(\"data/trumpet.txt\", 'r') as R:\n",
    "    # each sample is written to a single line in the text file\n",
    "    # this reads them in as a single integer-valued numpy array\n",
    "    data = np.asarray([int(i) for i in R])\n",
    "```\n",
    "\n",
    "Plot the signal on an $x$-axis labeled `\"Time (sec)\"` - be sure that the axis is scaled appropriately such that it reflects units of seconds.\n",
    "**There is too much data to be plotted, so plot only every** $100\\text{th}$ **datapoint**.\n",
    "Then, play the audio using\n",
    "\n",
    "```python\n",
    "from IPython.display import Audio\n",
    "Audio(data, rate=???)\n",
    "```"
   ]
  },
  {
   "cell_type": "code",
   "execution_count": null,
   "id": "75f71be2",
   "metadata": {},
   "outputs": [],
   "source": [
    "# plot signal\n",
    "# STUDENT CODE HERE"
   ]
  },
  {
   "cell_type": "code",
   "execution_count": null,
   "id": "346c1543",
   "metadata": {},
   "outputs": [],
   "source": [
    "# playing audio signal\n",
    "# STUDENT CODE HERE"
   ]
  },
  {
   "cell_type": "markdown",
   "id": "5efab52a",
   "metadata": {},
   "source": [
    "(1.6.5) Plot the frequency spectrum, $|a_{k}|$ vs $\\nu_{k}$, for the first $10,000$ $k$-values.\n",
    "Be sure to use a FFT (not the plain DFT) for real-valued data - we are working with a lot of data.\n",
    "[What notes are being played](http://www.phy.mtu.edu/~suits/notefreqs.html)?\n",
    "Make sure that the $k$-axis of your spectrum is scaled to be in units of $\\mathrm{Hz}$."
   ]
  },
  {
   "cell_type": "code",
   "execution_count": null,
   "id": "32a5ea47",
   "metadata": {},
   "outputs": [],
   "source": [
    "# STUDENT CODE HERE"
   ]
  },
  {
   "cell_type": "markdown",
   "id": "89325bc6",
   "metadata": {},
   "source": [
    "Let's try manipulating this audio signal.\n",
    "\n",
    "First, make a copy of the complex-valued Fourier coefficients to a new array. \n",
    "Then find all of the coefficient such that $|a_{k}| > 100$ and **set those complex-valued coefficients to 0**.\n",
    "Next, take the inverse Fourier transform (`np.fft.irfft`) of the now-modified set of complex-valued Fourier coefficients, to produce a \"mutated\" collection of samples $(y^{\\text{mutated}}_n)_{n=0}^{N-1}$.\n",
    "This is a new set of audio samples, but with those Fourier components missing!"
   ]
  },
  {
   "cell_type": "code",
   "execution_count": null,
   "id": "85911561",
   "metadata": {},
   "outputs": [],
   "source": [
    "# STUDENT CODE HERE"
   ]
  },
  {
   "cell_type": "markdown",
   "id": "14a57867",
   "metadata": {},
   "source": [
    "The result of this is a mutated version of the digital trumpet signal.\n",
    "Plot the wave form of this mutated signal against time (seconds).\n",
    "Only plot every $100^\\text{th}$ point!"
   ]
  },
  {
   "cell_type": "code",
   "execution_count": null,
   "id": "634c22a1",
   "metadata": {},
   "outputs": [],
   "source": [
    "# STUDENT CODE HERE"
   ]
  },
  {
   "cell_type": "markdown",
   "id": "ace07c05",
   "metadata": {},
   "source": [
    "Play the audio from this new sample.\n",
    "Consider what filtering you performed on the Fourier coefficients and how this affected the audio sample.\n",
    "Does this make sense to you?\n",
    "Chat with a neighbor about this. "
   ]
  },
  {
   "cell_type": "code",
   "execution_count": null,
   "id": "00e8041a",
   "metadata": {},
   "outputs": [],
   "source": [
    "# STUDENT CODE HERE"
   ]
  },
  {
   "cell_type": "markdown",
   "id": "afddd9d9",
   "metadata": {},
   "source": [
    "(1.6.6) Repeat this work for the piano audio signal, but be creative with how you mutate its audio.\n",
    "\n",
    "Consider plotting the Fourier spectrum on a log-scale, with\n",
    "\n",
    "```python\n",
    "ax.set_yscale('log')\n",
    "ax.set_ylim(1, None)\n",
    "```"
   ]
  },
  {
   "cell_type": "code",
   "execution_count": null,
   "id": "259dcace",
   "metadata": {},
   "outputs": [],
   "source": [
    "# plot signal\n",
    "# STUDENT CODE HERE"
   ]
  },
  {
   "cell_type": "code",
   "execution_count": null,
   "id": "e6b94861",
   "metadata": {},
   "outputs": [],
   "source": [
    "# play audio signal\n",
    "# STUDENT CODE HERE"
   ]
  },
  {
   "cell_type": "code",
   "execution_count": null,
   "id": "b33d5095",
   "metadata": {},
   "outputs": [],
   "source": [
    "# fourier transform\n",
    "# STUDENT CODE HERE"
   ]
  },
  {
   "cell_type": "code",
   "execution_count": null,
   "id": "226083b2",
   "metadata": {},
   "outputs": [],
   "source": [
    "# mutate signal\n",
    "# STUDENT CODE HERE\n",
    "\n",
    "# play audio signal\n",
    "# STUDENT CODE HERE"
   ]
  },
  {
   "cell_type": "markdown",
   "id": "520b3332",
   "metadata": {},
   "source": [
    "### Smoothing Stock Market Data"
   ]
  },
  {
   "cell_type": "markdown",
   "id": "c37e93e7",
   "metadata": {},
   "source": [
    "(1.6.7) Read in the stock market data from `data/dow.txt`.\n",
    "Each data point corresponds to the daily closing value of the Dow Jones Industrial Average (starting in late 2006 and ending in late 2010).\n",
    "Use the following code to read in the data:\n",
    "\n",
    "```python\n",
    "with open(\"data/dow.txt\", 'r') as R:\n",
    "    # Each row of the txt file contains the closing value of the market\n",
    "    # This data is read in as a numpy array of floating point values\n",
    "    data = np.asarray([float(i) for i in R])\n",
    "```\n",
    "\n",
    "Plot the data on labeled axes."
   ]
  },
  {
   "cell_type": "code",
   "execution_count": null,
   "id": "095b6ee0",
   "metadata": {},
   "outputs": [],
   "source": [
    "# STUDENT CODE HERE"
   ]
  },
  {
   "cell_type": "markdown",
   "id": "0d97c814",
   "metadata": {},
   "source": [
    "(1.6.8a) Note that this data looks roughly like a single period of a sine-wave.\n",
    "What, roughly, are the frequency and amplitude of this sine wave?\n",
    "Answer with appropriate units."
   ]
  },
  {
   "cell_type": "markdown",
   "id": "aa685cc8",
   "metadata": {},
   "source": [
    "> 1.6.8a Solution: *SOLUTION HERE*"
   ]
  },
  {
   "cell_type": "markdown",
   "id": "aa7e327a",
   "metadata": {},
   "source": [
    "(1.6.8b) Perform an FFT on this real-valued data, and plot the Fourier spectrum for this data.\n",
    "The $\\nu_{k}$-axis should be scaled to be in units of $\\frac{1}{\\text{days}}$.\n",
    "Label your axes.\n",
    "\n",
    "Some tips:\n",
    "\n",
    "- Zero-center your data (such that its mean-value is $0$) so that $|a_0|$ doesn't dominate your Fourier spectrum\n",
    "- Plot on the domain $[0, 0.04]$ (units 1 / days)\n",
    "\n",
    "Do you see a peak in correspondence to the sinusoidal form discussed in 1.6.8a?\n",
    "Does the frequency and amplitude of this prominent peak make sense?"
   ]
  },
  {
   "cell_type": "code",
   "execution_count": null,
   "id": "df42bb98",
   "metadata": {},
   "outputs": [],
   "source": [
    "# STUDENT CODE HERE"
   ]
  },
  {
   "cell_type": "markdown",
   "id": "6a06a3cc",
   "metadata": {},
   "source": [
    "(1.6.9) We want to smooth this stock market data.\n",
    "We can do this by \"removing\" the high-frequency coefficients of its Fourier spectrum.\n",
    "Try zeroing-out the top $90\\%$ high-frequency coefficients, and then perform an inverse FFT using these altered coefficients.\n",
    "Plot the \"recovered\" signal on top of a semi-transparent version of the original data (use the plot parameter `alpha=0.5`).\n",
    "Then repeat this, but with zeroing out the top $98\\%$ coefficients.\n",
    "In both of these cases, on what scale are the fluctuations being filtered out?\n",
    "\n",
    "> *SOLUTION HERE*"
   ]
  },
  {
   "cell_type": "code",
   "execution_count": null,
   "id": "4f01d7db",
   "metadata": {},
   "outputs": [],
   "source": [
    "# filter top 90% high frequencies\n",
    "# STUDENT CODE HERE"
   ]
  },
  {
   "cell_type": "code",
   "execution_count": null,
   "id": "ae3a44f1",
   "metadata": {},
   "outputs": [],
   "source": [
    "# filter top 98% high frequencies\n",
    "# STUDENT CODE HERE"
   ]
  },
  {
   "cell_type": "markdown",
   "id": "df0ce43d",
   "metadata": {},
   "source": [
    "(1.6.10) Now repeat this process but zero-out the bottom $10\\%$ **low-frequency** coefficients.\n",
    "What do you see?\n",
    "Why is there a huge down-shift in the recovered data? (Hint: recall the role of $c_{k=0}$).\n",
    "What would happen if you filtered out the bottom $10\\%$ low-frequency coefficients **except** for $c_{0}$?\n",
    "Try this.\n",
    "\n",
    ">  *SOLUTION HERE*"
   ]
  },
  {
   "cell_type": "code",
   "execution_count": null,
   "id": "87259ce0",
   "metadata": {},
   "outputs": [],
   "source": [
    "# filter bottom 10% low frequencies\n",
    "# STUDENT CODE HERE"
   ]
  },
  {
   "cell_type": "code",
   "execution_count": null,
   "id": "283d0acb",
   "metadata": {},
   "outputs": [],
   "source": [
    "# filter bottom 10% low frequencies, except c0\n",
    "# STUDENT CODE HERE"
   ]
  }
 ],
 "metadata": {
  "jupytext": {
   "notebook_metadata_filter": "nbsphinx"
  },
  "kernelspec": {
   "display_name": "Python 3",
   "language": "python",
   "name": "python3"
  },
  "nbsphinx": {
   "execute": "never"
  }
 },
 "nbformat": 4,
 "nbformat_minor": 5
}
