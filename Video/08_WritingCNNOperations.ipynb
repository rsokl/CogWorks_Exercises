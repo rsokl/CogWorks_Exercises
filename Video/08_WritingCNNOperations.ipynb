{
 "cells": [
  {
   "cell_type": "markdown",
   "id": "0ff610a8",
   "metadata": {},
   "source": [
    "## Neural Network Operations: Convolution and Pooling\n",
    "\n",
    "In our discussions throughout the rest of the course, we will often refer to convolution and pooling operations and use these as the basic building blocks of a substantial portion of our work. In this notebook, you will write your own basic convolution operation and apply it to an image. You'll then compare your implementation to the convolution implementation in MyGrad. Finally, you will implement your own max-pooling operation and compare that implementation against the MyGrad implementation."
   ]
  },
  {
   "cell_type": "markdown",
   "id": "9689cb1e",
   "metadata": {},
   "source": [
    "These operations all act on *windows* of an image. `mygrad.sliding_window_view` is very useful for this!"
   ]
  },
  {
   "cell_type": "code",
   "execution_count": null,
   "id": "3ef73ca0",
   "metadata": {},
   "outputs": [],
   "source": [
    "import matplotlib.pyplot as plt\n",
    "import matplotlib.image as mpimg\n",
    "import numpy as np\n",
    "import mygrad\n",
    "import mygrad as mg\n",
    "%matplotlib notebook\n",
    "img = mpimg.imread('./pics/meerkat.png')\n",
    "\n",
    "fig, ax = plt.subplots()\n",
    "ax.imshow(img);"
   ]
  },
  {
   "cell_type": "markdown",
   "id": "0b8b22d4",
   "metadata": {},
   "source": [
    "Let's visualize \"windowing\" this image using shape-(24, 24) windows, strided along H and W with a step size of 24. (Try changing these parameters). "
   ]
  },
  {
   "cell_type": "code",
   "execution_count": null,
   "id": "983f4773",
   "metadata": {},
   "outputs": [],
   "source": [
    "from mygrad import sliding_window_view\n",
    "x  = img.transpose(2, 0, 1)  # (H, W, C) --> (C, H, W)  (we window over the trailing dimensions)\n",
    "windowed_img = sliding_window_view(x, window_shape=(24, 24), step=24)\n",
    "windowed_img.shape"
   ]
  },
  {
   "cell_type": "markdown",
   "id": "c94c3635",
   "metadata": {},
   "source": [
    "According to the shape of `windowed_img`, we placed each shape-(24, 24) window at 11x11 locations. Let's visualize this, plotting each of the 11x11 window placements. "
   ]
  },
  {
   "cell_type": "code",
   "execution_count": null,
   "id": "a96d5681",
   "metadata": {},
   "outputs": [],
   "source": [
    "fig,ax = plt.subplots(nrows=windowed_img.shape[0], ncols=windowed_img.shape[1])\n",
    "for i,j in np.ndindex(windowed_img.shape[:2]):\n",
    "    ax[i,j].imshow(windowed_img[i,j].transpose(1, 2, 0))  # (C, Hw, Ww) -> (Hw, Ww, C)\n",
    "    ax[i,j].axis('off')"
   ]
  },
  {
   "cell_type": "markdown",
   "id": "eeacff6a",
   "metadata": {},
   "source": [
    "Try using different window-shape and stride combinations. Like window-(48, 48) with stride-(12,)"
   ]
  },
  {
   "cell_type": "markdown",
   "id": "4a22a61d",
   "metadata": {},
   "source": [
    "## Writing Your Own Convolution Function"
   ]
  },
  {
   "cell_type": "markdown",
   "id": "e912ef95",
   "metadata": {},
   "source": [
    "The first thing we'll need to do in order to perform convolution is figure out what our output shape is going to be, given our input shape and our filter shape. Recall that we'll be sliding our convolutional filter across the image at every valid location with a given stride. Then our output shape will be\n",
    "\n",
    "\\begin{equation}\n",
    "shape_\\text{out} = \\frac{shape_\\text{in} - shape_\\text{filter}}{stride} + 1\n",
    "\\end{equation}\n",
    "\n",
    "It is important to verify that we get valid dimensions here: we can't have fractional or negative sizes. Let's define a function now that will compute the output shape:"
   ]
  },
  {
   "cell_type": "code",
   "execution_count": null,
   "id": "be600096",
   "metadata": {},
   "outputs": [],
   "source": [
    "def get_outshape(x_shape, w_shape, stride):\n",
    "    ''' Compute the shape of the output tensor given an input shape, convolutional\n",
    "    filter shape, and stride.\n",
    "    \n",
    "    Parameters\n",
    "    ----------\n",
    "    x_shape : Tuple[int, int]\n",
    "        The shape of the input tensor.\n",
    "        \n",
    "    w_shape : Tuple[int, int]\n",
    "        The shape of the convolutional filter.\n",
    "        \n",
    "    stride : Tuple[int, int]\n",
    "        The stride at which to apply the convolutional filter to the input.\n",
    "        \n",
    "    Returns\n",
    "    -------\n",
    "    numpy.ndarray[int], shape=(2,)\n",
    "        The shape of the output tensor resulting from convolving a tensor of shape `x_shape`\n",
    "        with a tensor of shape `w_shape`.\n",
    "    '''\n",
    "    x_shape = np.array(x_shape)\n",
    "    w_shape = np.array(w_shape)\n",
    "    stride = np.array(stride)\n",
    "\n",
    "    out_shape = (x_shape - w_shape) / stride + 1\n",
    "\n",
    "    if not all(i.is_integer() and i > 0 for i in out_shape):\n",
    "        msg = \"Stride and kernel dimensions are incompatible: \\n\"\n",
    "        msg += \"Input dimensions: {}\\n\".format(tuple(x_shape))\n",
    "        msg += \"Stride dimensions: {}\\n\".format(tuple(stride))\n",
    "        msg += \"Kernel dimensions: {}\\n\".format(tuple(w_shape))\n",
    "        raise ValueError(msg)\n",
    "    return out_shape.astype(np.int32)"
   ]
  },
  {
   "cell_type": "markdown",
   "id": "6f31ec17",
   "metadata": {},
   "source": [
    "We should perform a sanity check to verify that our function is working correctly. We'll try a few test cases."
   ]
  },
  {
   "cell_type": "code",
   "execution_count": null,
   "id": "bbed79c9",
   "metadata": {},
   "outputs": [],
   "source": [
    "assert tuple(get_outshape((10, 10), (3, 3), (1, 1))) == (8, 8)\n",
    "assert tuple(get_outshape((11, 11), (3, 3), (2, 2))) == (5, 5)\n",
    "assert tuple(get_outshape((10, 10), (5, 5), (1, 1))) == (6, 6)"
   ]
  },
  {
   "cell_type": "markdown",
   "id": "5e7603dd",
   "metadata": {},
   "source": [
    "Now we can define a function that will perform our convolution. We'll expect an image of shape $(C, H, W)$ ($C$ color-channels, $H$ pixels along the vertical, $W$ pixels along the horizontal) and a convolutional filter of shape $(C, H_f, W_f)$, along with a spatial stride of $(s_y, s_x)$. We'll compute our output shape, then construct an output array of the correct shape using our function above. Once we have our output array, we'll step through it and perform our convolution."
   ]
  },
  {
   "cell_type": "code",
   "execution_count": null,
   "id": "ffa53371",
   "metadata": {},
   "outputs": [],
   "source": [
    "def convolve(input_image, conv_filter, stride=(1, 1)):\n",
    "    ''' Convolve `input_image` with `conv_filter` at a stride of `stride`.\n",
    "    \n",
    "    Parameters\n",
    "    ----------\n",
    "    input_image : numpy.ndarray, shape=(C, H, W)\n",
    "        The input over which to perform convolution.\n",
    "        \n",
    "    conv_filter : numpy.ndarray, shape=(C, Hf, Wf)\n",
    "        The convolutional filter to slide across the image.\n",
    "    \n",
    "    stride : Tuple[int, int], optional (default=(1, 1))\n",
    "        The stride at which to apply `conv_filter` across `input_image`.\n",
    "        \n",
    "    Returns\n",
    "    -------\n",
    "    numpy.ndarray, shape=(H', W')\n",
    "        The result of convolving `input_image` with `conv_filter` at a stride of `stride`,\n",
    "        where (H', W') is the result of `get_outshape`.\n",
    "    '''\n",
    "    # STUDENT CODE HERE"
   ]
  },
  {
   "cell_type": "markdown",
   "id": "5a5f75d7",
   "metadata": {},
   "source": [
    "Make up a 1x9x9 array of integer-valued floats  and a 1x3x3 array of integer-valued floats, as your \"image\" and your \"conv-filter\" respectively. Perform the convolution for strides 1, 2, and/or 3 by hand, and then run your `convolve` function and check your results."
   ]
  },
  {
   "cell_type": "markdown",
   "id": "9710e0c5",
   "metadata": {},
   "source": [
    "We now have a convolutional operator defined! However, we need to be able to apply a *bank* of filters to a *stack* of images. We can use the convolution operation we just defined, looping over $K$ filters of shape $(C, Hf, Wf)$ for each of $N$ images of shape $(C, H, W)$ to perform a full forward pass of a single CNN layer. Let's define that function now."
   ]
  },
  {
   "cell_type": "code",
   "execution_count": null,
   "id": "e0a3aaa0",
   "metadata": {},
   "outputs": [],
   "source": [
    "def conv_bank(input_images, conv_filters, stride=(1, 1)):\n",
    "    ''' Convolve a bank of filters over a stack of images.\n",
    "    \n",
    "    Parameters\n",
    "    ----------\n",
    "    input_images : numpy.ndarray, shape=(N, C, H, W)\n",
    "        The images over which to convolve our filters.\n",
    "        \n",
    "    conv_filters : numpy.ndarray, shape=(K, C, Hf, Wf)\n",
    "        The convolutional filters to apply to the images.\n",
    "        \n",
    "    stride : Tuple[int, int], optional (default=(1, 1))\n",
    "        The stride at which to apply each filter to the images.\n",
    "        \n",
    "    Returns\n",
    "    -------\n",
    "    numpy.ndarray, shape=(N, K, H', W')\n",
    "        The result of convolving `input_image` with `conv_filter` at a stride of `stride`,\n",
    "        where (H', W') is the result of `get_outshape`.\n",
    "    '''\n",
    "    # STUDENT CODE HERE"
   ]
  },
  {
   "cell_type": "markdown",
   "id": "fca25aaa",
   "metadata": {},
   "source": [
    "Now we can verify the behavior of our function the same way we did before; let's generate a stack of shape-(4, 1, 9, 9) images and a shape-(1, 1, 3, 3) filter bank. Call `convolve` manually for each of the 4 images with this single filter. Check that `conv_bank` indeed applies the same convolution to each of the four images. "
   ]
  },
  {
   "cell_type": "markdown",
   "id": "fe605d9d",
   "metadata": {},
   "source": [
    "Now with all that work out of the way, let's get a time comparison between using our function and MyGrad's convolution function!"
   ]
  },
  {
   "cell_type": "code",
   "execution_count": null,
   "id": "1be94958",
   "metadata": {},
   "outputs": [],
   "source": [
    "timing_images = np.random.rand(10, 3, 64, 64)\n",
    "timing_filters = np.random.rand(20, 3, 3, 3)"
   ]
  },
  {
   "cell_type": "code",
   "execution_count": null,
   "id": "dbd7de8f",
   "metadata": {},
   "outputs": [],
   "source": [
    "%%timeit\n",
    "conv_bank(timing_images, timing_filters)"
   ]
  },
  {
   "cell_type": "code",
   "execution_count": null,
   "id": "dd86b31c",
   "metadata": {},
   "outputs": [],
   "source": [
    "from mygrad.nnet.layers import conv_nd"
   ]
  },
  {
   "cell_type": "code",
   "execution_count": null,
   "id": "5a3fdf56",
   "metadata": {},
   "outputs": [],
   "source": [
    "%%timeit\n",
    "conv_nd(timing_images, timing_filters, stride=(1, 1))"
   ]
  },
  {
   "cell_type": "markdown",
   "id": "345a1916",
   "metadata": {},
   "source": [
    "We can see the clear utility of the optimization that has gone into MyGrad! All the clever tricks we can use to speed up convolution pay dividends given how much computation is required for the convolution operation."
   ]
  },
  {
   "cell_type": "markdown",
   "id": "7b3db6c1",
   "metadata": {},
   "source": [
    "Now we'll move on to implementing a pooling operation. Max-pooling is very useful as a downsampling step to reduce the size of an image, for example. We'll implement this here. At each location in our image, we will compute the maximum value in a $Hp\\times Wp$ window and only record that value; our image will thus be downsampled by a factor of $Hp$ in the first spatial dimension and $Wp$ in the second. First up, we'll define a function that takes as input a $H\\times W$ channel and a pooling shape of $Hp\\times Wp$, and outputs a max-pooled channel."
   ]
  },
  {
   "cell_type": "code",
   "execution_count": null,
   "id": "6ab61ce2",
   "metadata": {},
   "outputs": [],
   "source": [
    "def max_pool(input_image, pool_shape=(2, 2)):\n",
    "    ''' Perform max-pooling over a single channel of an image.\n",
    "    \n",
    "    Parameters\n",
    "    ----------\n",
    "    input_image : numpy.ndarray, shape=(H, W)\n",
    "        The channel over which to perform max-pooling.\n",
    "        \n",
    "    pool_shape : Tuple[int, int], optional (default=(2, 2))\n",
    "        The shape of the max-pool. `pool_shape[0]` is Hp, and `pool_shape[1]` is Wp.\n",
    "        \n",
    "    Returns\n",
    "    -------\n",
    "    numpy.ndarray, shape=(H', W')\n",
    "        The result of max-pooling `input_image` with a pooling window of shape `pool_shape`,\n",
    "        where H' is (H / Hp) and W' is (W / Wp)\n",
    "    '''\n",
    "    # STUDENT CODE HERE"
   ]
  },
  {
   "cell_type": "markdown",
   "id": "14961902",
   "metadata": {},
   "source": [
    "We can visually inspect our function to make sure it's doing the right thing:"
   ]
  },
  {
   "cell_type": "code",
   "execution_count": null,
   "id": "4e29a0ba",
   "metadata": {},
   "outputs": [],
   "source": [
    "a = np.random.rand(4, 4)\n",
    "print(a, '\\n')\n",
    "print(max_pool(a))"
   ]
  },
  {
   "cell_type": "markdown",
   "id": "dd622df6",
   "metadata": {},
   "source": [
    "Now we can define a function that loops through each image in a stack of images, then loops through each channel of each image to pool them, just like in the convolution example. Let's define that function now:"
   ]
  },
  {
   "cell_type": "code",
   "execution_count": null,
   "id": "1be02c8c",
   "metadata": {},
   "outputs": [],
   "source": [
    "def max_pool_stack(input_images, pool_shape=(2, 2)):\n",
    "    ''' Perform max-pooling over a stack of images.\n",
    "    \n",
    "    Parameters\n",
    "    ----------\n",
    "    input_images : numpy.ndarray, shape=(N, C, H, W)\n",
    "        The images over which to perform max-pooling.\n",
    "        \n",
    "    pool_shape : Tuple[int, int], optional (default=(2, 2))\n",
    "        The shape of the max-pool. `pool_shape[0]` is Hp, and `pool_shape[1]` is Wp.\n",
    "        \n",
    "    Returns\n",
    "    -------\n",
    "    numpy.ndarray, shape=(N, C, H', W')\n",
    "        The result of max-pooling `input_image` with a pooling window of shape `pool_shape`,\n",
    "        where H' is (H / Hp) and W' is (W / Wp)\n",
    "    '''\n",
    "    # STUDENT CODE HERE"
   ]
  },
  {
   "cell_type": "markdown",
   "id": "d37ca1b7",
   "metadata": {},
   "source": [
    "Again, we can visually inspect this function:"
   ]
  },
  {
   "cell_type": "code",
   "execution_count": null,
   "id": "9ba4f7bb",
   "metadata": {},
   "outputs": [],
   "source": [
    "a = np.random.rand(2, 2, 4, 4)\n",
    "print(a, '\\n')\n",
    "print(max_pool_stack(a, (2, 2)))"
   ]
  },
  {
   "cell_type": "markdown",
   "id": "e42571b6",
   "metadata": {},
   "source": [
    "Now let's compare our implementation against MyGrad!"
   ]
  },
  {
   "cell_type": "code",
   "execution_count": null,
   "id": "d586945d",
   "metadata": {},
   "outputs": [],
   "source": [
    "a = np.random.rand(20, 10, 64, 64)"
   ]
  },
  {
   "cell_type": "code",
   "execution_count": null,
   "id": "657316db",
   "metadata": {},
   "outputs": [],
   "source": [
    "%%timeit\n",
    "max_pool_stack(a, (2, 2))"
   ]
  },
  {
   "cell_type": "code",
   "execution_count": null,
   "id": "7fabc3f8",
   "metadata": {},
   "outputs": [],
   "source": [
    "from mygrad.nnet.layers import max_pool"
   ]
  },
  {
   "cell_type": "code",
   "execution_count": null,
   "id": "4f59b336",
   "metadata": {},
   "outputs": [],
   "source": [
    "%%timeit\n",
    "max_pool(a, (2, 2), (2, 2))"
   ]
  },
  {
   "cell_type": "markdown",
   "id": "6b8b9912",
   "metadata": {},
   "source": [
    "## Image Processing Via Convolution\n",
    "\n",
    "Given the right kernel, performing a convolution can be a powerful technique for processing and manipulating images. We will see that simple 3x3 kernels can be constructed that:\n",
    "- detect edges in an image\n",
    "- sharpen an image\n",
    "- blur an image\n",
    "\n",
    "In practice, it is found that neural networks can \"organically\" learn some of these filter patterns - meaning that it learns to leverage some of these processed image features as it is learning! "
   ]
  },
  {
   "cell_type": "markdown",
   "id": "7f9486b2",
   "metadata": {},
   "source": [
    "The following are 3x3 kernels.\n",
    "\n",
    "For edge detection:\n",
    "```python\n",
    "edge = np.array([[-1, -1, -1],\n",
    "                 [-1,  8, -1],\n",
    "                 [-1, -1, -1]])\n",
    "```\n",
    "\n",
    "To sharpen images:\n",
    "```python\n",
    "sharp = np.array([[ 0, -1,  0],\n",
    "                  [-1,  5, -1],\n",
    "                  [ 0, -1,  0]])\n",
    "```\n",
    "\n",
    "To blur images:\n",
    "```python\n",
    "gauss_blur = np.array([[1, 2, 1],\n",
    "                       [2, 4, 2],\n",
    "                       [1, 2, 1]])\n",
    "gauss_blur = gauss_blur / 16\n",
    "```"
   ]
  },
  {
   "cell_type": "markdown",
   "id": "0c07ac2b",
   "metadata": {},
   "source": [
    "Let's use MyGrad's `conv_nd` function (or our own implementation, as they both can perform convolutions) to test these filters."
   ]
  },
  {
   "cell_type": "code",
   "execution_count": null,
   "id": "276c9f3a",
   "metadata": {},
   "outputs": [],
   "source": [
    "# plot the image with matplotlib\n",
    "img = mpimg.imread('./pics/meerkat.png')\n",
    "\n",
    "fig, ax = plt.subplots()\n",
    "ax.imshow(img);"
   ]
  },
  {
   "cell_type": "markdown",
   "id": "467351ca",
   "metadata": {},
   "source": [
    "What is the shape of this image-array? Which axis contains the color channels?"
   ]
  },
  {
   "cell_type": "code",
   "execution_count": null,
   "id": "43a36918",
   "metadata": {},
   "outputs": [],
   "source": [
    "def image_process_conv(img, kernel):\n",
    "    \"\"\" This is a convenience function that allows us to use mygrad's nn-style\n",
    "    convolution on a single 2D image with a single 2D kernel, without \n",
    "    collapsing the color channels.\n",
    "\n",
    "    matplotlib's imshow requires the image axes to be ordered as: (H, W, C),\n",
    "    thus we must do some transposing.\n",
    "\n",
    "    Parameters\n",
    "    ----------\n",
    "    img : numpy.ndarray, shape=(H, W, C)\n",
    "    kernel : numpy.ndarray, shape=(Hf, Wf)\n",
    "\n",
    "    Returns\n",
    "    -------\n",
    "    convolved_img : numpy.ndarray, shape=(H', W', C)\"\"\"\n",
    "    # (H, W, C) --> (C, 1, H, W)\n",
    "    x = img.transpose(2,0,1)[:, np.newaxis, :, :]\n",
    "    \n",
    "    # (Hf, Wf) --> (1, 1, Hf, Wf)\n",
    "    kernel = kernel.reshape(1, 1, *kernel.shape)\n",
    "    \n",
    "    # conv: (C, 1, H, W) w/ (1, 1, Hf, Wf) --> (C, 1, H', W')\n",
    "    # squeeze + transpose: (C, 1, H', W') --> (H', W', C)\n",
    "    return conv_nd(x, kernel, stride=(1, 1)).data.squeeze().transpose(1, 2, 0)"
   ]
  },
  {
   "cell_type": "code",
   "execution_count": null,
   "id": "991e03bc",
   "metadata": {},
   "outputs": [],
   "source": [
    "# edge detection\n",
    "edge_detect_kernel = np.array([[-1, -1, -1],\n",
    "                               [-1,  8, -1],\n",
    "                               [-1, -1, -1]])\n",
    "\n",
    "fig, ax = plt.subplots()\n",
    "ax.imshow(image_process_conv(img, edge_detect_kernel));"
   ]
  },
  {
   "cell_type": "code",
   "execution_count": null,
   "id": "e40ad7c5",
   "metadata": {},
   "outputs": [],
   "source": [
    "sharpening_kernel = np.array([[ 0, -1,  0],\n",
    "                              [-1,  5, -1],\n",
    "                              [ 0, -1,  0]])\n",
    "\n",
    "fig, ax = plt.subplots()\n",
    "ax.imshow(image_process_conv(img, sharpening_kernel));"
   ]
  },
  {
   "cell_type": "code",
   "execution_count": null,
   "id": "f8a8f41a",
   "metadata": {},
   "outputs": [],
   "source": [
    "gauss_blur = np.array([[1, 2, 1],\n",
    "                       [2, 4, 2],\n",
    "                       [1, 2, 1]])\n",
    "gauss_blur = gauss_blur / 16\n",
    "fig, ax = plt.subplots()\n",
    "ax.imshow(image_process_conv(img, gauss_blur));"
   ]
  }
 ],
 "metadata": {
  "jupytext": {
   "notebook_metadata_filter": "nbsphinx"
  },
  "kernelspec": {
   "display_name": "Python [conda env:.conda-week2]",
   "language": "python",
   "name": "conda-env-.conda-week2-py"
  },
  "nbsphinx": {
   "execute": "never"
  }
 },
 "nbformat": 4,
 "nbformat_minor": 5
}
