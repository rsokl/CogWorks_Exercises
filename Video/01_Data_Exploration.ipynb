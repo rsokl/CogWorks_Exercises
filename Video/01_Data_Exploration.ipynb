{
 "cells": [
  {
   "cell_type": "markdown",
   "id": "7261a749",
   "metadata": {},
   "source": [
    "# Exercises: Exploring A Dataset\n",
    "\n",
    "A critical first step to tackling any data analysis problem is to familiarize ourselves with the the data that we are using.\n",
    "It is all too common for tutorials in the world of \"data science\" to eagerly leap right into slick methods of analysis without spending even a moment to get a feel for the data being processed.\n",
    "This can quickly betray the trusting reader, who may then apply the tutorial's methods to data that is not immediately amenable to the same means of analysis.\n",
    "Here are some simple questions that we should ask about any data set:\n",
    "\n",
    "- What is the format of our data?\n",
    "   - What is the domain of values associated with your dataset? For example, if you are working with images whose pixels are stored as uint8 values (i.e. unsigned 8-bit integers), then each pixel will reside on the integer-valued domain $[0, 255]$ (a total of $2^8$ values).\n",
    "   - What is the \"dimensionality\" of our data? That is, how many numbers or quantities are associated with each datum in your dataset?\n",
    "   - Is all of our data saved in the same format?\n",
    "   - Is this a \"lossy\" format? (E.g. is there a substantial amount noise introduced to our data due to things like compression?)\n",
    "\n",
    "- How was our data collected?\n",
    "   - What are the scales/units associated with our data?\n",
    "   - Was all of the data collected under comparable circumstances?\n",
    "   - What are the biases in/limitations to the data? (E.g. pictures of people scraped off of social media could be biased towards selfie-style pictures, where the faces are well-lit and are prominently framed with little clutter; there could also be prominent biases in the distributions of ages and ethnicities of people depicted in such data)\n",
    "   - Are there measurement errors (either documented or apparent) associated with the data?\n",
    "   \n",
    "- What are the \"statistics\" of our data?\n",
    "   - What are the minimum/maximum values of the various quantities in our data?\n",
    "   - Can we visualize relationships between values in our data as a scatter or surface plot?\n",
    "   - Can we visualize distributions of our data via things like histograms and [empirical cumulative distributions](https://en.wikipedia.org/wiki/Empirical_distribution_function)?\n",
    "\n",
    "## Our Dataset: NBA Player Measurements\n",
    "This notebook will step us through the process of exploring a simple dataset containing various measurements (e.g. height, weight, etc.) of NBA players who were part of the 2019 draft.\n",
    "The data is saved using the [NetCDF-4 format](https://en.wikipedia.org/wiki/NetCDF), which is designed for storing scientific array data.\n",
    "This data format does not affect our measurements in any important way - the values stored in the `nba_draft_measurements.nc` file reflect exactly the measurements that were collected.\n",
    "As we will see, all of the length measurements in this dataset carry units of inches.\n",
    "Furthermore, they were collected to the nearest quarter of an inch - this is a systematic source of error associated with the limited precision of the measurements that were made.\n",
    "\n",
    "### Using the Xarray Library\n",
    "\n",
    "We will load our data from the NetCDF-4 format using the powerful [xarray library](http://xarray.pydata.org/en/stable/index.html).\n",
    "This is a Python package that allows one to work with multi-dimensional array data that has *labeled axes, units, and coordinates associated with it*.\n",
    "Where bare NumPy arrays require us to relate crucial information about data, like measurement units and coordinates, via auxiliary documentation, xarray's data structures makes this information explicit and intimately associated with the array data.\n",
    "Thus it enables us to process and manipulate our data while retaining critical context about each datum.\n",
    "\n",
    "Once we have access to this data, our main goal will be to use the [matplotlib library](https://www.pythonlikeyoumeanit.com/Module5_OddsAndEnds/Matplotlib.html) to visualize our data, and to glean interesting patterns from these visualizations.\n",
    "\n",
    "Let's start by loading our data into an [xarray-Dataset](http://xarray.pydata.org/en/stable/data-structures.html#dataset)"
   ]
  },
  {
   "cell_type": "code",
   "execution_count": null,
   "id": "1b28e470",
   "metadata": {},
   "outputs": [],
   "source": [
    "# run this cell\n",
    "import matplotlib.pyplot as plt\n",
    "\n",
    "%matplotlib notebook\n",
    "\n",
    "import numpy as np\n",
    "\n",
    "from pathlib import Path\n",
    "import xarray as xr\n",
    "\n",
    "# Here we use the xarray library to load the NetCDF-4 file into an xarray-Dataset\n",
    "draft_data = xr.load_dataset(Path.cwd() / \"data\" / \"nba_draft_measurements.nc\")"
   ]
  },
  {
   "cell_type": "markdown",
   "id": "6c7a85cd",
   "metadata": {},
   "source": [
    "Running the following cell will display the \"repr\" (representation) of this object.\n",
    "Where most Python objects display strings as their reprs, a xarray object's repr is especially informative.\n",
    "In a Jupyter notebook in should produce an interactive summary of its data, rendered via HTML elements.\n",
    "\n",
    "Take some time to study the output of this cell.\n",
    "What are the data variables (i.e. measurements) in this dataset?\n",
    "What are the coordinates (i.e. identifiers) associated with these measured values? "
   ]
  },
  {
   "cell_type": "code",
   "execution_count": null,
   "id": "380c0fec",
   "metadata": {},
   "outputs": [],
   "source": [
    "# Viewing the so-called \"repr\" of our dataset\n",
    "draft_data"
   ]
  },
  {
   "cell_type": "markdown",
   "id": "eb31a416",
   "metadata": {},
   "source": [
    "This data is an `xarray.Dataset` that stores measurements/info for 70 players from the 2019 NBA draft; these measurements are:\n",
    "\n",
    "1. Height (no shoes) [inches]\n",
    "2. Height (with shoes) [inches]\n",
    "3. Weight [pounds]\n",
    "4. Standing Reach [inches]\n",
    "5. Wingspan [inches]\n",
    "6. Body-fat Percentage\n",
    "7. Hand-length [inches]\n",
    "8. Hand-width [inches]\n",
    "9. Player Position [PG: point guard, SG: shooting guard, C: center, PF: power-forward, SF: small forward]\n",
    "\n",
    "Each of these measurements corresponds to a so-called **data variable** in the xarray-dataset; each of which is a shape-(70,) array.\n",
    "Each entry across data variables corresponds to a specific player; thus the so-called **coordinates** that align these data are a shape-(70,) array of player names."
   ]
  },
  {
   "cell_type": "markdown",
   "id": "8cb15d4c",
   "metadata": {},
   "source": [
    "### Accessing the data"
   ]
  },
  {
   "cell_type": "markdown",
   "id": "f5234023",
   "metadata": {},
   "source": [
    "Each data variable can be accessed by metric name (you can use tab-completion to check the different metric names).\n",
    "Evaluate `draft_data.height_no_shoes` in the cell below to access `shape-(70,)` array of player heights; note that the player names are still associated with these measurements.\n",
    "This is an array-like object, thus it can be indexed into and sliced like a standard numpy array."
   ]
  },
  {
   "cell_type": "code",
   "execution_count": null,
   "id": "6699f557",
   "metadata": {},
   "outputs": [],
   "source": [
    "# accessing a data variable from our dataset\n",
    "# STUDENT CODE HERE"
   ]
  },
  {
   "cell_type": "markdown",
   "id": "ac179f11",
   "metadata": {},
   "source": [
    "The underlying numpy array associated with a data variable can be accessed via the `.data` attribute.\n",
    "Evaluate `draft_data.height_no_shoes.data` in the cell below to access the NumPy array that stores its data."
   ]
  },
  {
   "cell_type": "code",
   "execution_count": null,
   "id": "b5527d34",
   "metadata": {},
   "outputs": [],
   "source": [
    "# accessing the underlying numpy array of a data variable\n",
    "# STUDENT CODE HERE"
   ]
  },
  {
   "cell_type": "markdown",
   "id": "0aaf3a20",
   "metadata": {},
   "source": [
    "Data arrays support the same sort of elementwise (i.e. vectorized) operations as numpy arrays.\n",
    "In the following cell, compute the height added to each player by his shoes."
   ]
  },
  {
   "cell_type": "code",
   "execution_count": null,
   "id": "dc38a9d6",
   "metadata": {},
   "outputs": [],
   "source": [
    "# Computing the height added to each player by his shoes\n",
    "# STUDENT CODE HERE"
   ]
  },
  {
   "cell_type": "markdown",
   "id": "5a58613a",
   "metadata": {},
   "source": [
    "Data arrays also have available to them the same sort of math methods, like `.sum()`.\n",
    "Use `.mean()` and `.std()` to compute the average height added to a player by his shoes, along with the standard deviation.\n",
    "What units are these values?"
   ]
  },
  {
   "cell_type": "code",
   "execution_count": null,
   "id": "91750cc3",
   "metadata": {},
   "outputs": [],
   "source": [
    "# Computing the mean and standard deviation of the height added to each player by his shoes\n",
    "# STUDENT CODE HERE"
   ]
  },
  {
   "cell_type": "markdown",
   "id": "310906ee",
   "metadata": {},
   "source": [
    "### Visualizing Our Dataset\n",
    "\n",
    "The `xarray` library has [rich and convenient plotting utilities](http://xarray.pydata.org/en/stable/plotting.html).\n",
    "\n",
    "For example, the following code will plot how a player's height and weight varies across player-position.\n",
    "Do you notice any similarities or differences between the trends in these two plots?"
   ]
  },
  {
   "cell_type": "code",
   "execution_count": null,
   "id": "971b5f8d",
   "metadata": {},
   "outputs": [],
   "source": [
    "fig, axes = plt.subplots(nrows=2)\n",
    "draft_data.plot.scatter(x=\"position\", y=\"height_no_shoes\", ax=axes[0])\n",
    "draft_data.plot.scatter(x=\"position\", y=\"weight\", ax=axes[1])\n",
    "axes[0].set_title(\"Metrics for NBA Draftees (2019)\")\n",
    "[ax.grid() for ax in axes];"
   ]
  },
  {
   "cell_type": "markdown",
   "id": "4ce830e5",
   "metadata": {},
   "source": [
    "The following plot shows display hand-width vs hand-height.\n",
    "\n",
    "Do you notice anything about how the data falls along distinct vertical and horizontal lines in the plot?\n",
    "What conclusion might you draw about the data-acquisition process to explain this \"quantization\" effect?"
   ]
  },
  {
   "cell_type": "code",
   "execution_count": null,
   "id": "1faf05ca",
   "metadata": {},
   "outputs": [],
   "source": [
    "fig, ax = plt.subplots()\n",
    "draft_data.plot.scatter(x=\"hand_length\", y=\"hand_width\")\n",
    "ax.grid()"
   ]
  },
  {
   "cell_type": "markdown",
   "id": "89dfa273",
   "metadata": {},
   "source": [
    "Provide a guess as to why the data points seem to \"snap to\" an evenly spaced grid in the plot.\n",
    "\n",
    "*SOLUTION HERE*"
   ]
  },
  {
   "cell_type": "markdown",
   "id": "4c1d8db9",
   "metadata": {},
   "source": [
    "Plot the same sort of scatter plot, but for wingspan vs height (without shoes)"
   ]
  },
  {
   "cell_type": "code",
   "execution_count": null,
   "id": "9930e385",
   "metadata": {},
   "outputs": [],
   "source": [
    "# STUDENT CODE HERE"
   ]
  },
  {
   "cell_type": "markdown",
   "id": "481dea3c",
   "metadata": {},
   "source": [
    "Refer to the reading comprehension question [\"Ordinary Least Squares in Python\"](https://rsokl.github.io/CogWeb/Video/Linear_Regression.html#Linear-Least-Squares:-A-Closed-Form-Solution) from the previous section of CogWeb and complete the following function.\n",
    "Check your answer against the solution that is provided at the end of the page."
   ]
  },
  {
   "cell_type": "code",
   "execution_count": null,
   "id": "d4597fd0",
   "metadata": {},
   "outputs": [],
   "source": [
    "import numpy as np\n",
    "\n",
    "def ordinary_least_squares(x, y):\n",
    "    \"\"\"\n",
    "    Computes the slope and y-intercept for the line that minimizes\n",
    "    the sum of squared residuals of mx + b and y, for the observed data\n",
    "    (x, y).\n",
    "    \n",
    "    Parameters\n",
    "    ----------\n",
    "    x : numpy.ndarray, shape-(N,)\n",
    "        The independent data. At least two distinct pieces of data \n",
    "        are required.\n",
    "\n",
    "    y : numpy.ndarray, shape-(N,)\n",
    "        The dependent data in correspondence with ``x``.\n",
    "\n",
    "    Returns\n",
    "    -------\n",
    "    (m, b) : Tuple[float, float]\n",
    "        The optimal values for the slope and y-intercept\n",
    "    \"\"\"\n",
    "    # STUDENT CODE HERE"
   ]
  },
  {
   "cell_type": "markdown",
   "id": "dda5fe24",
   "metadata": {},
   "source": [
    "Use the function `ordinary_least_squares` to compute the ideal slope and y-intercept for the line of least squares associated with the wingspan versus height (without shoes) data.\n",
    "Next, plot this data along with the \"best fit\" linear model.\n",
    "Use `ax.scatter(x, y)` to plot the original data and `ax.plot` to draw the model line; \n",
    "you will want to specify a distinct color for your linear model.\n",
    "Label your axes."
   ]
  },
  {
   "cell_type": "code",
   "execution_count": null,
   "id": "2d551b4f",
   "metadata": {},
   "outputs": [],
   "source": [
    "# Plot wingspan vs height (no shoes)\n",
    "# Plot m* x + b*\n",
    "\n",
    "\n",
    "fig, ax = plt.subplots()\n",
    "\n",
    "# plot the data using a scatter plot\n",
    "# STUDENT CODE HERE\n",
    "\n",
    "# compute the slope (m) and y-intercept (b) of\n",
    "# the best-fit line\n",
    "# STUDENT CODE HERE\n",
    "\n",
    "# create a domain of x-values between the minimum and maximum heights\n",
    "# from the dataset (consider using `numpy.linspace`)\n",
    "# STUDENT CODE HERE\n",
    "\n",
    "# plot the best-fit line using the x-values\n",
    "# STUDENT CODE HERE\n",
    "\n",
    "ax.grid(True)\n",
    "ax.set_xlabel(\"Height [inches]\")\n",
    "ax.set_ylabel(\"Wingspan [inches]\")\n",
    "ax.set_title(\"Wingspan vs Height for NBA Draftees from 2019 \")\n",
    "ax.legend();"
   ]
  }
 ],
 "metadata": {
  "jupytext": {
   "notebook_metadata_filter": "nbsphinx"
  },
  "kernelspec": {
   "display_name": "Python [conda env:.conda-week2]",
   "language": "python",
   "name": "conda-env-.conda-week2-py"
  },
  "nbsphinx": {
   "execute": "never"
  }
 },
 "nbformat": 4,
 "nbformat_minor": 5
}
